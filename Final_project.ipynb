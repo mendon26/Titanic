{
 "cells": [
  {
   "cell_type": "code",
   "execution_count": 66,
   "metadata": {
    "collapsed": true
   },
   "outputs": [],
   "source": [
    "# data analysis and wrangling\n",
    "import pandas as pd\n",
    "import numpy as np\n",
    "import random as rnd"
   ]
  },
  {
   "cell_type": "code",
   "execution_count": 67,
   "metadata": {
    "collapsed": true
   },
   "outputs": [],
   "source": [
    "# visualization\n",
    "import seaborn as sns\n",
    "import matplotlib.pyplot as plt\n",
    "%matplotlib inline"
   ]
  },
  {
   "cell_type": "code",
   "execution_count": 68,
   "metadata": {
    "collapsed": true
   },
   "outputs": [],
   "source": [
    "# machine learning\n",
    "from sklearn.linear_model import LogisticRegression\n",
    "from sklearn.svm import SVC, LinearSVC\n",
    "from sklearn.ensemble import RandomForestClassifier\n",
    "from sklearn.neighbors import KNeighborsClassifier\n",
    "from sklearn.naive_bayes import GaussianNB\n",
    "from sklearn.linear_model import Perceptron\n",
    "from sklearn.linear_model import SGDClassifier\n",
    "from sklearn.tree import DecisionTreeClassifier\n",
    "#validation using kfold\n",
    "from sklearn.cross_validation import KFold\n",
    "# Feature Scaling helps make computations easy\n",
    "from sklearn.preprocessing import StandardScaler\n",
    "#splitting features \n",
    "from sklearn.model_selection import train_test_split"
   ]
  },
  {
   "cell_type": "code",
   "execution_count": 69,
   "metadata": {
    "collapsed": true
   },
   "outputs": [],
   "source": [
    "#XGBoost is an optimized distributed gradient boosting library designed to be highly efficient, flexible and portable. \n",
    "#installed using following command : conda install -c conda-forge xgboost\n",
    "import xgboost as xgb"
   ]
  },
  {
   "cell_type": "code",
   "execution_count": 70,
   "metadata": {
    "collapsed": true
   },
   "outputs": [],
   "source": [
    "#keras for deep learning\n",
    "from keras.datasets import imdb\n",
    "from keras.models import Sequential\n",
    "from keras.layers import Dense\n",
    "from keras.layers import LSTM\n",
    "from keras.layers.embeddings import Embedding\n",
    "from keras.preprocessing import sequence"
   ]
  },
  {
   "cell_type": "code",
   "execution_count": 71,
   "metadata": {
    "collapsed": true
   },
   "outputs": [],
   "source": [
    "train_df = pd.read_csv('train.csv')\n",
    "test_df = pd.read_csv('test.csv')\n",
    "combine = [train_df, test_df]"
   ]
  },
  {
   "cell_type": "code",
   "execution_count": 72,
   "metadata": {},
   "outputs": [
    {
     "name": "stdout",
     "output_type": "stream",
     "text": [
      "['PassengerId' 'Survived' 'Pclass' 'Name' 'Sex' 'Age' 'SibSp' 'Parch'\n",
      " 'Ticket' 'Fare' 'Cabin' 'Embarked']\n"
     ]
    }
   ],
   "source": [
    "print(train_df.columns.values)"
   ]
  },
  {
   "cell_type": "code",
   "execution_count": 73,
   "metadata": {
    "collapsed": true
   },
   "outputs": [],
   "source": [
    "#Data Dictionary\n",
    "\n",
    "#VariableDefinitionKey survival Survival 0 = No, 1 = Yes pclass Ticket class 1 = 1st, 2 = 2nd, 3 = 3rd sex Sex Age Age in years sibsp # of siblings / spouses aboard the Titanic parch # of parents / children aboard the Titanic ticket Ticket number fare Passenger fare cabin Cabin number embarked Port of Embarkation C = Cherbourg, Q = Queenstown, S = Southampton\n",
    "#Variable Notes\n",
    "\n",
    "#pclass: A proxy for socio-economic status (SES)\n",
    "#1st = Upper\n",
    "#2nd = Middle\n",
    "#3rd = Lower\n",
    "\n",
    "#age: Age is fractional if less than 1. If the age is estimated, is it in the form of xx.5\n",
    "\n",
    "#sibsp: The dataset defines family relations in this way...\n",
    "#Sibling = brother, sister, stepbrother, stepsister\n",
    "#Spouse = husband, wife (mistresses and fiancés were ignored)\n",
    "\n",
    "#parch: The dataset defines family relations in this way...\n",
    "#Parent = mother, father\n",
    "#Child = daughter, son, stepdaughter, stepson\n",
    "#Some children travelled only with a nanny, therefore parch=0 for them.\n"
   ]
  },
  {
   "cell_type": "code",
   "execution_count": 74,
   "metadata": {
    "collapsed": true
   },
   "outputs": [],
   "source": [
    "#categorical values \n",
    "#Categorical: Survived, Sex and Embarked. \n",
    "#Ordinal: Pclass.\n",
    "\n",
    "#numerical values\n",
    "#Continous: Age, Fare. \n",
    "#Discrete: SibSp, Parch."
   ]
  },
  {
   "cell_type": "code",
   "execution_count": 75,
   "metadata": {},
   "outputs": [
    {
     "data": {
      "text/html": [
       "<div>\n",
       "<style>\n",
       "    .dataframe thead tr:only-child th {\n",
       "        text-align: right;\n",
       "    }\n",
       "\n",
       "    .dataframe thead th {\n",
       "        text-align: left;\n",
       "    }\n",
       "\n",
       "    .dataframe tbody tr th {\n",
       "        vertical-align: top;\n",
       "    }\n",
       "</style>\n",
       "<table border=\"1\" class=\"dataframe\">\n",
       "  <thead>\n",
       "    <tr style=\"text-align: right;\">\n",
       "      <th></th>\n",
       "      <th>PassengerId</th>\n",
       "      <th>Survived</th>\n",
       "      <th>Pclass</th>\n",
       "      <th>Name</th>\n",
       "      <th>Sex</th>\n",
       "      <th>Age</th>\n",
       "      <th>SibSp</th>\n",
       "      <th>Parch</th>\n",
       "      <th>Ticket</th>\n",
       "      <th>Fare</th>\n",
       "      <th>Cabin</th>\n",
       "      <th>Embarked</th>\n",
       "    </tr>\n",
       "  </thead>\n",
       "  <tbody>\n",
       "    <tr>\n",
       "      <th>0</th>\n",
       "      <td>1</td>\n",
       "      <td>0</td>\n",
       "      <td>3</td>\n",
       "      <td>Braund, Mr. Owen Harris</td>\n",
       "      <td>male</td>\n",
       "      <td>22.0</td>\n",
       "      <td>1</td>\n",
       "      <td>0</td>\n",
       "      <td>A/5 21171</td>\n",
       "      <td>7.2500</td>\n",
       "      <td>NaN</td>\n",
       "      <td>S</td>\n",
       "    </tr>\n",
       "    <tr>\n",
       "      <th>1</th>\n",
       "      <td>2</td>\n",
       "      <td>1</td>\n",
       "      <td>1</td>\n",
       "      <td>Cumings, Mrs. John Bradley (Florence Briggs Th...</td>\n",
       "      <td>female</td>\n",
       "      <td>38.0</td>\n",
       "      <td>1</td>\n",
       "      <td>0</td>\n",
       "      <td>PC 17599</td>\n",
       "      <td>71.2833</td>\n",
       "      <td>C85</td>\n",
       "      <td>C</td>\n",
       "    </tr>\n",
       "    <tr>\n",
       "      <th>2</th>\n",
       "      <td>3</td>\n",
       "      <td>1</td>\n",
       "      <td>3</td>\n",
       "      <td>Heikkinen, Miss. Laina</td>\n",
       "      <td>female</td>\n",
       "      <td>26.0</td>\n",
       "      <td>0</td>\n",
       "      <td>0</td>\n",
       "      <td>STON/O2. 3101282</td>\n",
       "      <td>7.9250</td>\n",
       "      <td>NaN</td>\n",
       "      <td>S</td>\n",
       "    </tr>\n",
       "    <tr>\n",
       "      <th>3</th>\n",
       "      <td>4</td>\n",
       "      <td>1</td>\n",
       "      <td>1</td>\n",
       "      <td>Futrelle, Mrs. Jacques Heath (Lily May Peel)</td>\n",
       "      <td>female</td>\n",
       "      <td>35.0</td>\n",
       "      <td>1</td>\n",
       "      <td>0</td>\n",
       "      <td>113803</td>\n",
       "      <td>53.1000</td>\n",
       "      <td>C123</td>\n",
       "      <td>S</td>\n",
       "    </tr>\n",
       "    <tr>\n",
       "      <th>4</th>\n",
       "      <td>5</td>\n",
       "      <td>0</td>\n",
       "      <td>3</td>\n",
       "      <td>Allen, Mr. William Henry</td>\n",
       "      <td>male</td>\n",
       "      <td>35.0</td>\n",
       "      <td>0</td>\n",
       "      <td>0</td>\n",
       "      <td>373450</td>\n",
       "      <td>8.0500</td>\n",
       "      <td>NaN</td>\n",
       "      <td>S</td>\n",
       "    </tr>\n",
       "  </tbody>\n",
       "</table>\n",
       "</div>"
      ],
      "text/plain": [
       "   PassengerId  Survived  Pclass  \\\n",
       "0            1         0       3   \n",
       "1            2         1       1   \n",
       "2            3         1       3   \n",
       "3            4         1       1   \n",
       "4            5         0       3   \n",
       "\n",
       "                                                Name     Sex   Age  SibSp  \\\n",
       "0                            Braund, Mr. Owen Harris    male  22.0      1   \n",
       "1  Cumings, Mrs. John Bradley (Florence Briggs Th...  female  38.0      1   \n",
       "2                             Heikkinen, Miss. Laina  female  26.0      0   \n",
       "3       Futrelle, Mrs. Jacques Heath (Lily May Peel)  female  35.0      1   \n",
       "4                           Allen, Mr. William Henry    male  35.0      0   \n",
       "\n",
       "   Parch            Ticket     Fare Cabin Embarked  \n",
       "0      0         A/5 21171   7.2500   NaN        S  \n",
       "1      0          PC 17599  71.2833   C85        C  \n",
       "2      0  STON/O2. 3101282   7.9250   NaN        S  \n",
       "3      0            113803  53.1000  C123        S  \n",
       "4      0            373450   8.0500   NaN        S  "
      ]
     },
     "execution_count": 75,
     "metadata": {},
     "output_type": "execute_result"
    }
   ],
   "source": [
    "train_df.head()"
   ]
  },
  {
   "cell_type": "code",
   "execution_count": 76,
   "metadata": {},
   "outputs": [
    {
     "data": {
      "text/plain": [
       "PassengerId      0\n",
       "Survived         0\n",
       "Pclass           0\n",
       "Name             0\n",
       "Sex              0\n",
       "Age            177\n",
       "SibSp            0\n",
       "Parch            0\n",
       "Ticket           0\n",
       "Fare             0\n",
       "Cabin          687\n",
       "Embarked         2\n",
       "dtype: int64"
      ]
     },
     "execution_count": 76,
     "metadata": {},
     "output_type": "execute_result"
    }
   ],
   "source": [
    "train_df.apply(lambda x: sum(x.isnull()),axis=0)"
   ]
  },
  {
   "cell_type": "code",
   "execution_count": 77,
   "metadata": {},
   "outputs": [
    {
     "data": {
      "text/plain": [
       "PassengerId      0\n",
       "Pclass           0\n",
       "Name             0\n",
       "Sex              0\n",
       "Age             86\n",
       "SibSp            0\n",
       "Parch            0\n",
       "Ticket           0\n",
       "Fare             1\n",
       "Cabin          327\n",
       "Embarked         0\n",
       "dtype: int64"
      ]
     },
     "execution_count": 77,
     "metadata": {},
     "output_type": "execute_result"
    }
   ],
   "source": [
    "test_df.apply(lambda x: sum(x.isnull()),axis=0)"
   ]
  },
  {
   "cell_type": "code",
   "execution_count": 78,
   "metadata": {},
   "outputs": [
    {
     "data": {
      "text/html": [
       "<div>\n",
       "<style>\n",
       "    .dataframe thead tr:only-child th {\n",
       "        text-align: right;\n",
       "    }\n",
       "\n",
       "    .dataframe thead th {\n",
       "        text-align: left;\n",
       "    }\n",
       "\n",
       "    .dataframe tbody tr th {\n",
       "        vertical-align: top;\n",
       "    }\n",
       "</style>\n",
       "<table border=\"1\" class=\"dataframe\">\n",
       "  <thead>\n",
       "    <tr style=\"text-align: right;\">\n",
       "      <th></th>\n",
       "      <th>PassengerId</th>\n",
       "      <th>Survived</th>\n",
       "      <th>Pclass</th>\n",
       "      <th>Age</th>\n",
       "      <th>SibSp</th>\n",
       "      <th>Parch</th>\n",
       "      <th>Fare</th>\n",
       "    </tr>\n",
       "  </thead>\n",
       "  <tbody>\n",
       "    <tr>\n",
       "      <th>count</th>\n",
       "      <td>891.000000</td>\n",
       "      <td>891.000000</td>\n",
       "      <td>891.000000</td>\n",
       "      <td>714.000000</td>\n",
       "      <td>891.000000</td>\n",
       "      <td>891.000000</td>\n",
       "      <td>891.000000</td>\n",
       "    </tr>\n",
       "    <tr>\n",
       "      <th>mean</th>\n",
       "      <td>446.000000</td>\n",
       "      <td>0.383838</td>\n",
       "      <td>2.308642</td>\n",
       "      <td>29.699118</td>\n",
       "      <td>0.523008</td>\n",
       "      <td>0.381594</td>\n",
       "      <td>32.204208</td>\n",
       "    </tr>\n",
       "    <tr>\n",
       "      <th>std</th>\n",
       "      <td>257.353842</td>\n",
       "      <td>0.486592</td>\n",
       "      <td>0.836071</td>\n",
       "      <td>14.526497</td>\n",
       "      <td>1.102743</td>\n",
       "      <td>0.806057</td>\n",
       "      <td>49.693429</td>\n",
       "    </tr>\n",
       "    <tr>\n",
       "      <th>min</th>\n",
       "      <td>1.000000</td>\n",
       "      <td>0.000000</td>\n",
       "      <td>1.000000</td>\n",
       "      <td>0.420000</td>\n",
       "      <td>0.000000</td>\n",
       "      <td>0.000000</td>\n",
       "      <td>0.000000</td>\n",
       "    </tr>\n",
       "    <tr>\n",
       "      <th>25%</th>\n",
       "      <td>223.500000</td>\n",
       "      <td>0.000000</td>\n",
       "      <td>2.000000</td>\n",
       "      <td>20.125000</td>\n",
       "      <td>0.000000</td>\n",
       "      <td>0.000000</td>\n",
       "      <td>7.910400</td>\n",
       "    </tr>\n",
       "    <tr>\n",
       "      <th>50%</th>\n",
       "      <td>446.000000</td>\n",
       "      <td>0.000000</td>\n",
       "      <td>3.000000</td>\n",
       "      <td>28.000000</td>\n",
       "      <td>0.000000</td>\n",
       "      <td>0.000000</td>\n",
       "      <td>14.454200</td>\n",
       "    </tr>\n",
       "    <tr>\n",
       "      <th>75%</th>\n",
       "      <td>668.500000</td>\n",
       "      <td>1.000000</td>\n",
       "      <td>3.000000</td>\n",
       "      <td>38.000000</td>\n",
       "      <td>1.000000</td>\n",
       "      <td>0.000000</td>\n",
       "      <td>31.000000</td>\n",
       "    </tr>\n",
       "    <tr>\n",
       "      <th>max</th>\n",
       "      <td>891.000000</td>\n",
       "      <td>1.000000</td>\n",
       "      <td>3.000000</td>\n",
       "      <td>80.000000</td>\n",
       "      <td>8.000000</td>\n",
       "      <td>6.000000</td>\n",
       "      <td>512.329200</td>\n",
       "    </tr>\n",
       "  </tbody>\n",
       "</table>\n",
       "</div>"
      ],
      "text/plain": [
       "       PassengerId    Survived      Pclass         Age       SibSp  \\\n",
       "count   891.000000  891.000000  891.000000  714.000000  891.000000   \n",
       "mean    446.000000    0.383838    2.308642   29.699118    0.523008   \n",
       "std     257.353842    0.486592    0.836071   14.526497    1.102743   \n",
       "min       1.000000    0.000000    1.000000    0.420000    0.000000   \n",
       "25%     223.500000    0.000000    2.000000   20.125000    0.000000   \n",
       "50%     446.000000    0.000000    3.000000   28.000000    0.000000   \n",
       "75%     668.500000    1.000000    3.000000   38.000000    1.000000   \n",
       "max     891.000000    1.000000    3.000000   80.000000    8.000000   \n",
       "\n",
       "            Parch        Fare  \n",
       "count  891.000000  891.000000  \n",
       "mean     0.381594   32.204208  \n",
       "std      0.806057   49.693429  \n",
       "min      0.000000    0.000000  \n",
       "25%      0.000000    7.910400  \n",
       "50%      0.000000   14.454200  \n",
       "75%      0.000000   31.000000  \n",
       "max      6.000000  512.329200  "
      ]
     },
     "execution_count": 78,
     "metadata": {},
     "output_type": "execute_result"
    }
   ],
   "source": [
    "train_df.describe()"
   ]
  },
  {
   "cell_type": "code",
   "execution_count": 79,
   "metadata": {
    "collapsed": true
   },
   "outputs": [],
   "source": [
    "#As per the analysis done using sql and above description he following can be analyzed\n",
    "#Total samples are 891 or 40% of the actual number of passengers on board the Titanic (2,224).\n",
    "#Survived is a categorical feature with 0 or 1 values.\n",
    "#Around 38% samples survived representative of the actual survival rate at 32%.\n",
    "#Most passengers (> 75%) did not travel with parents or children.\n",
    "#Nearly 30% of the passengers had siblings and/or spouse aboard.\n",
    "#Fares varied significantly with few passengers (<1%) paying as high as $512.\n",
    "#Few elderly passengers (<1%) within age range 65-80.\n",
    "#Names are unique across the dataset (count=unique=891)\n",
    "#Sex variable as two possible values with 65% male (top=male, freq=577/count=891).\n",
    "#Cabin values have several dupicates across samples. Alternatively several passengers shared a cabin.\n",
    "#Embarked takes three possible values. S port used by most passengers (top=S)\n",
    "#Ticket feature has high ratio (22%) of duplicate values (unique=681)."
   ]
  },
  {
   "cell_type": "code",
   "execution_count": 80,
   "metadata": {},
   "outputs": [
    {
     "data": {
      "text/html": [
       "<div>\n",
       "<style>\n",
       "    .dataframe thead tr:only-child th {\n",
       "        text-align: right;\n",
       "    }\n",
       "\n",
       "    .dataframe thead th {\n",
       "        text-align: left;\n",
       "    }\n",
       "\n",
       "    .dataframe tbody tr th {\n",
       "        vertical-align: top;\n",
       "    }\n",
       "</style>\n",
       "<table border=\"1\" class=\"dataframe\">\n",
       "  <thead>\n",
       "    <tr style=\"text-align: right;\">\n",
       "      <th></th>\n",
       "      <th>Name</th>\n",
       "      <th>Sex</th>\n",
       "      <th>Ticket</th>\n",
       "      <th>Cabin</th>\n",
       "      <th>Embarked</th>\n",
       "    </tr>\n",
       "  </thead>\n",
       "  <tbody>\n",
       "    <tr>\n",
       "      <th>count</th>\n",
       "      <td>891</td>\n",
       "      <td>891</td>\n",
       "      <td>891</td>\n",
       "      <td>204</td>\n",
       "      <td>889</td>\n",
       "    </tr>\n",
       "    <tr>\n",
       "      <th>unique</th>\n",
       "      <td>891</td>\n",
       "      <td>2</td>\n",
       "      <td>681</td>\n",
       "      <td>147</td>\n",
       "      <td>3</td>\n",
       "    </tr>\n",
       "    <tr>\n",
       "      <th>top</th>\n",
       "      <td>Brown, Mrs. Thomas William Solomon (Elizabeth ...</td>\n",
       "      <td>male</td>\n",
       "      <td>1601</td>\n",
       "      <td>C23 C25 C27</td>\n",
       "      <td>S</td>\n",
       "    </tr>\n",
       "    <tr>\n",
       "      <th>freq</th>\n",
       "      <td>1</td>\n",
       "      <td>577</td>\n",
       "      <td>7</td>\n",
       "      <td>4</td>\n",
       "      <td>644</td>\n",
       "    </tr>\n",
       "  </tbody>\n",
       "</table>\n",
       "</div>"
      ],
      "text/plain": [
       "                                                     Name   Sex Ticket  \\\n",
       "count                                                 891   891    891   \n",
       "unique                                                891     2    681   \n",
       "top     Brown, Mrs. Thomas William Solomon (Elizabeth ...  male   1601   \n",
       "freq                                                    1   577      7   \n",
       "\n",
       "              Cabin Embarked  \n",
       "count           204      889  \n",
       "unique          147        3  \n",
       "top     C23 C25 C27        S  \n",
       "freq              4      644  "
      ]
     },
     "execution_count": 80,
     "metadata": {},
     "output_type": "execute_result"
    }
   ],
   "source": [
    "train_df.describe(include=['O'])"
   ]
  },
  {
   "cell_type": "code",
   "execution_count": 81,
   "metadata": {},
   "outputs": [
    {
     "data": {
      "text/html": [
       "<div>\n",
       "<style>\n",
       "    .dataframe thead tr:only-child th {\n",
       "        text-align: right;\n",
       "    }\n",
       "\n",
       "    .dataframe thead th {\n",
       "        text-align: left;\n",
       "    }\n",
       "\n",
       "    .dataframe tbody tr th {\n",
       "        vertical-align: top;\n",
       "    }\n",
       "</style>\n",
       "<table border=\"1\" class=\"dataframe\">\n",
       "  <thead>\n",
       "    <tr style=\"text-align: right;\">\n",
       "      <th></th>\n",
       "      <th>Pclass</th>\n",
       "      <th>Survived</th>\n",
       "    </tr>\n",
       "  </thead>\n",
       "  <tbody>\n",
       "    <tr>\n",
       "      <th>0</th>\n",
       "      <td>1</td>\n",
       "      <td>0.629630</td>\n",
       "    </tr>\n",
       "    <tr>\n",
       "      <th>1</th>\n",
       "      <td>2</td>\n",
       "      <td>0.472826</td>\n",
       "    </tr>\n",
       "    <tr>\n",
       "      <th>2</th>\n",
       "      <td>3</td>\n",
       "      <td>0.242363</td>\n",
       "    </tr>\n",
       "  </tbody>\n",
       "</table>\n",
       "</div>"
      ],
      "text/plain": [
       "   Pclass  Survived\n",
       "0       1  0.629630\n",
       "1       2  0.472826\n",
       "2       3  0.242363"
      ]
     },
     "execution_count": 81,
     "metadata": {},
     "output_type": "execute_result"
    }
   ],
   "source": [
    "train_df[['Pclass', 'Survived']].groupby(['Pclass'], as_index=False).mean().sort_values(by='Survived', ascending=False)"
   ]
  },
  {
   "cell_type": "code",
   "execution_count": 82,
   "metadata": {
    "collapsed": true
   },
   "outputs": [],
   "source": [
    "#Pclass : significant correlation (>0.5) among Pclass=1 and Survived.  use this feature in our model."
   ]
  },
  {
   "cell_type": "code",
   "execution_count": 83,
   "metadata": {},
   "outputs": [
    {
     "data": {
      "text/html": [
       "<div>\n",
       "<style>\n",
       "    .dataframe thead tr:only-child th {\n",
       "        text-align: right;\n",
       "    }\n",
       "\n",
       "    .dataframe thead th {\n",
       "        text-align: left;\n",
       "    }\n",
       "\n",
       "    .dataframe tbody tr th {\n",
       "        vertical-align: top;\n",
       "    }\n",
       "</style>\n",
       "<table border=\"1\" class=\"dataframe\">\n",
       "  <thead>\n",
       "    <tr style=\"text-align: right;\">\n",
       "      <th></th>\n",
       "      <th>Sex</th>\n",
       "      <th>Survived</th>\n",
       "    </tr>\n",
       "  </thead>\n",
       "  <tbody>\n",
       "    <tr>\n",
       "      <th>0</th>\n",
       "      <td>female</td>\n",
       "      <td>0.742038</td>\n",
       "    </tr>\n",
       "    <tr>\n",
       "      <th>1</th>\n",
       "      <td>male</td>\n",
       "      <td>0.188908</td>\n",
       "    </tr>\n",
       "  </tbody>\n",
       "</table>\n",
       "</div>"
      ],
      "text/plain": [
       "      Sex  Survived\n",
       "0  female  0.742038\n",
       "1    male  0.188908"
      ]
     },
     "execution_count": 83,
     "metadata": {},
     "output_type": "execute_result"
    }
   ],
   "source": [
    "train_df[[\"Sex\", \"Survived\"]].groupby(['Sex'], as_index=False).mean().sort_values(by='Survived', ascending=False)"
   ]
  },
  {
   "cell_type": "code",
   "execution_count": 84,
   "metadata": {
    "collapsed": true
   },
   "outputs": [],
   "source": [
    "#Sex :females have high survival rate at 74%. As seen in the movie women and children were rescued first."
   ]
  },
  {
   "cell_type": "code",
   "execution_count": 85,
   "metadata": {},
   "outputs": [
    {
     "data": {
      "text/html": [
       "<div>\n",
       "<style>\n",
       "    .dataframe thead tr:only-child th {\n",
       "        text-align: right;\n",
       "    }\n",
       "\n",
       "    .dataframe thead th {\n",
       "        text-align: left;\n",
       "    }\n",
       "\n",
       "    .dataframe tbody tr th {\n",
       "        vertical-align: top;\n",
       "    }\n",
       "</style>\n",
       "<table border=\"1\" class=\"dataframe\">\n",
       "  <thead>\n",
       "    <tr style=\"text-align: right;\">\n",
       "      <th></th>\n",
       "      <th>SibSp</th>\n",
       "      <th>Survived</th>\n",
       "    </tr>\n",
       "  </thead>\n",
       "  <tbody>\n",
       "    <tr>\n",
       "      <th>1</th>\n",
       "      <td>1</td>\n",
       "      <td>0.535885</td>\n",
       "    </tr>\n",
       "    <tr>\n",
       "      <th>2</th>\n",
       "      <td>2</td>\n",
       "      <td>0.464286</td>\n",
       "    </tr>\n",
       "    <tr>\n",
       "      <th>0</th>\n",
       "      <td>0</td>\n",
       "      <td>0.345395</td>\n",
       "    </tr>\n",
       "    <tr>\n",
       "      <th>3</th>\n",
       "      <td>3</td>\n",
       "      <td>0.250000</td>\n",
       "    </tr>\n",
       "    <tr>\n",
       "      <th>4</th>\n",
       "      <td>4</td>\n",
       "      <td>0.166667</td>\n",
       "    </tr>\n",
       "    <tr>\n",
       "      <th>5</th>\n",
       "      <td>5</td>\n",
       "      <td>0.000000</td>\n",
       "    </tr>\n",
       "    <tr>\n",
       "      <th>6</th>\n",
       "      <td>8</td>\n",
       "      <td>0.000000</td>\n",
       "    </tr>\n",
       "  </tbody>\n",
       "</table>\n",
       "</div>"
      ],
      "text/plain": [
       "   SibSp  Survived\n",
       "1      1  0.535885\n",
       "2      2  0.464286\n",
       "0      0  0.345395\n",
       "3      3  0.250000\n",
       "4      4  0.166667\n",
       "5      5  0.000000\n",
       "6      8  0.000000"
      ]
     },
     "execution_count": 85,
     "metadata": {},
     "output_type": "execute_result"
    }
   ],
   "source": [
    "train_df[[\"SibSp\", \"Survived\"]].groupby(['SibSp'], as_index=False).mean().sort_values(by='Survived', ascending=False)"
   ]
  },
  {
   "cell_type": "code",
   "execution_count": 86,
   "metadata": {
    "collapsed": true
   },
   "outputs": [],
   "source": [
    "#sibsp : no relevant correlation"
   ]
  },
  {
   "cell_type": "code",
   "execution_count": 87,
   "metadata": {},
   "outputs": [
    {
     "data": {
      "text/html": [
       "<div>\n",
       "<style>\n",
       "    .dataframe thead tr:only-child th {\n",
       "        text-align: right;\n",
       "    }\n",
       "\n",
       "    .dataframe thead th {\n",
       "        text-align: left;\n",
       "    }\n",
       "\n",
       "    .dataframe tbody tr th {\n",
       "        vertical-align: top;\n",
       "    }\n",
       "</style>\n",
       "<table border=\"1\" class=\"dataframe\">\n",
       "  <thead>\n",
       "    <tr style=\"text-align: right;\">\n",
       "      <th></th>\n",
       "      <th>Parch</th>\n",
       "      <th>Survived</th>\n",
       "    </tr>\n",
       "  </thead>\n",
       "  <tbody>\n",
       "    <tr>\n",
       "      <th>3</th>\n",
       "      <td>3</td>\n",
       "      <td>0.600000</td>\n",
       "    </tr>\n",
       "    <tr>\n",
       "      <th>1</th>\n",
       "      <td>1</td>\n",
       "      <td>0.550847</td>\n",
       "    </tr>\n",
       "    <tr>\n",
       "      <th>2</th>\n",
       "      <td>2</td>\n",
       "      <td>0.500000</td>\n",
       "    </tr>\n",
       "    <tr>\n",
       "      <th>0</th>\n",
       "      <td>0</td>\n",
       "      <td>0.343658</td>\n",
       "    </tr>\n",
       "    <tr>\n",
       "      <th>5</th>\n",
       "      <td>5</td>\n",
       "      <td>0.200000</td>\n",
       "    </tr>\n",
       "    <tr>\n",
       "      <th>4</th>\n",
       "      <td>4</td>\n",
       "      <td>0.000000</td>\n",
       "    </tr>\n",
       "    <tr>\n",
       "      <th>6</th>\n",
       "      <td>6</td>\n",
       "      <td>0.000000</td>\n",
       "    </tr>\n",
       "  </tbody>\n",
       "</table>\n",
       "</div>"
      ],
      "text/plain": [
       "   Parch  Survived\n",
       "3      3  0.600000\n",
       "1      1  0.550847\n",
       "2      2  0.500000\n",
       "0      0  0.343658\n",
       "5      5  0.200000\n",
       "4      4  0.000000\n",
       "6      6  0.000000"
      ]
     },
     "execution_count": 87,
     "metadata": {},
     "output_type": "execute_result"
    }
   ],
   "source": [
    "train_df[[\"Parch\", \"Survived\"]].groupby(['Parch'], as_index=False).mean().sort_values(by='Survived', ascending=False)"
   ]
  },
  {
   "cell_type": "code",
   "execution_count": 88,
   "metadata": {
    "collapsed": true
   },
   "outputs": [],
   "source": [
    "#Parch : no relevant correlation"
   ]
  },
  {
   "cell_type": "code",
   "execution_count": 89,
   "metadata": {},
   "outputs": [
    {
     "data": {
      "text/plain": [
       "<seaborn.axisgrid.FacetGrid at 0x12742cda0>"
      ]
     },
     "execution_count": 89,
     "metadata": {},
     "output_type": "execute_result"
    },
    {
     "data": {
      "image/png": "[encoded data removed]",
      "text/plain": [
       "<matplotlib.figure.Figure at 0x1274455c0>"
      ]
     },
     "metadata": {},
     "output_type": "display_data"
    }
   ],
   "source": [
    "graph = sns.FacetGrid(train_df, col='Survived')\n",
    "graph.map(plt.hist, 'Age', bins=20)"
   ]
  },
  {
   "cell_type": "code",
   "execution_count": 90,
   "metadata": {
    "collapsed": true
   },
   "outputs": [],
   "source": [
    "#Most passengers are in 15-35 age range.\n",
    "#Many passegers who were 15-25 years old did not survive.\n",
    "#passengers less than 5 years of age had high chances of survival\n",
    "#80year old passenger survived"
   ]
  },
  {
   "cell_type": "code",
   "execution_count": 91,
   "metadata": {},
   "outputs": [
    {
     "data": {
      "image/png": "[encoded data removed]",
      "text/plain": [
       "<matplotlib.figure.Figure at 0x1274d5ef0>"
      ]
     },
     "metadata": {},
     "output_type": "display_data"
    }
   ],
   "source": [
    "grid = sns.FacetGrid(train_df, col='Survived', row='Pclass')\n",
    "grid.map(plt.hist, 'Age', alpha=.5, bins=10)\n",
    "grid.add_legend();"
   ]
  },
  {
   "cell_type": "code",
   "execution_count": 92,
   "metadata": {
    "collapsed": true
   },
   "outputs": [],
   "source": [
    "#Pclass=3 mostly did not survive and Most passengers in Pclass=1 survived. Hence we assume that upper class passengers have more chancs of survival.\n",
    "#Infant passengers mostly survived  except in for Pclass =2 or 3.  we can assume that infants have more chances of survival."
   ]
  },
  {
   "cell_type": "code",
   "execution_count": 93,
   "metadata": {},
   "outputs": [
    {
     "data": {
      "text/plain": [
       "<seaborn.axisgrid.FacetGrid at 0x1279c66d8>"
      ]
     },
     "execution_count": 93,
     "metadata": {},
     "output_type": "execute_result"
    },
    {
     "data": {
      "image/png": "[encoded data removed]",
      "text/plain": [
       "<matplotlib.figure.Figure at 0x127b64e10>"
      ]
     },
     "metadata": {},
     "output_type": "display_data"
    }
   ],
   "source": [
    "grid = sns.FacetGrid(train_df, row='Embarked')\n",
    "grid.map(sns.pointplot, 'Pclass', 'Survived', 'Sex', palette='deep')\n",
    "grid.add_legend()"
   ]
  },
  {
   "cell_type": "code",
   "execution_count": 94,
   "metadata": {
    "collapsed": true
   },
   "outputs": [],
   "source": [
    "#as mentioned earlier females have a higher chance of survival except for Embarked=q. \n",
    "#we can assume embarked is related to pclass or cabin which is related to survival. no direct correlation\n"
   ]
  },
  {
   "cell_type": "code",
   "execution_count": 95,
   "metadata": {},
   "outputs": [
    {
     "data": {
      "text/plain": [
       "<seaborn.axisgrid.FacetGrid at 0x127ff3b00>"
      ]
     },
     "execution_count": 95,
     "metadata": {},
     "output_type": "execute_result"
    },
    {
     "data": {
      "image/png": "[encoded data removed]",
      "text/plain": [
       "<matplotlib.figure.Figure at 0x127fe3550>"
      ]
     },
     "metadata": {},
     "output_type": "display_data"
    }
   ],
   "source": [
    "grid = sns.FacetGrid(train_df, row='Embarked', col='Survived')\n",
    "grid.map(sns.barplot, 'Sex', 'Fare', alpha=.5, ci=None)\n",
    "grid.add_legend()"
   ]
  },
  {
   "cell_type": "code",
   "execution_count": 96,
   "metadata": {
    "collapsed": true
   },
   "outputs": [],
   "source": [
    "#Passengers who paid higher fares survived more. \n",
    "#Port of embarkation shows correlates with survival. "
   ]
  },
  {
   "cell_type": "code",
   "execution_count": 97,
   "metadata": {
    "collapsed": true
   },
   "outputs": [],
   "source": [
    "#converting data :  Sex to Gender where female=1 and male=0.\n",
    "for dataset in combine:\n",
    "    dataset['Sex'] = dataset['Sex'].map( {'female': 1, 'male': 0} ).astype(int)"
   ]
  },
  {
   "cell_type": "code",
   "execution_count": 98,
   "metadata": {
    "collapsed": true
   },
   "outputs": [],
   "source": [
    "#converting data :  Sibsp and parch is converted to isAlone like a flag. if person is travelling alone isAlone =0 else 1\n",
    "for dataset in combine:\n",
    "    dataset['IsAlone'] = 0\n",
    "    dataset.loc[dataset['SibSp'] > 1, 'IsAlone'] = 1\n",
    "    dataset.loc[dataset['Parch'] > 1, 'IsAlone'] = 1"
   ]
  },
  {
   "cell_type": "code",
   "execution_count": 99,
   "metadata": {},
   "outputs": [
    {
     "name": "stdout",
     "output_type": "stream",
     "text": [
      "[[ 0.  0.  0.]\n",
      " [ 0.  0.  0.]]\n"
     ]
    }
   ],
   "source": [
    "#completing missing data : Fill missing values for age \n",
    "#For our dataset we note corelation among Age, Gender, and Pclass. \n",
    "guess_ages = np.zeros((2,3))\n",
    "print(guess_ages)\n",
    "for dataset in combine:\n",
    "    for i in range(0, 2):\n",
    "        for j in range(0, 3):\n",
    "            guess_df = dataset[(dataset['Sex'] == i) & \\\n",
    "                                  (dataset['Pclass'] == j+1)]['Age'].dropna()\n",
    "\n",
    "           \n",
    "            age_guess = guess_df.median()\n",
    "\n",
    "          \n",
    "            guess_ages[i,j] = int( age_guess/0.2 + 0.2 ) * 0.2\n",
    "            \n",
    "    for i in range(0, 2):\n",
    "        for j in range(0, 3):\n",
    "            dataset.loc[ (dataset.Age.isnull()) & (dataset.Sex == i) & (dataset.Pclass == j+1),\\\n",
    "                    'Age'] = guess_ages[i,j]\n",
    "\n",
    "    dataset['Age'] = dataset['Age'].astype(int)\n",
    "    \n",
    "    train_df['AgeBand'] = pd.cut(train_df['Age'], 5)\n",
    "    \n",
    "    \n",
    "    for dataset in combine:    \n",
    "        dataset.loc[ dataset['Age'] <= 16, 'Age'] = 0\n",
    "        dataset.loc[(dataset['Age'] > 16) & (dataset['Age'] <= 32), 'Age'] = 1\n",
    "        dataset.loc[(dataset['Age'] > 32) & (dataset['Age'] <= 48), 'Age'] = 2\n",
    "        dataset.loc[(dataset['Age'] > 48) & (dataset['Age'] <= 64), 'Age'] = 3\n",
    "        dataset.loc[ dataset['Age'] > 64, 'Age']\n",
    "    \n",
    "    train_df = train_df.drop(['AgeBand'], axis=1)\n",
    "combine = [train_df, test_df]"
   ]
  },
  {
   "cell_type": "code",
   "execution_count": 100,
   "metadata": {
    "collapsed": true
   },
   "outputs": [],
   "source": [
    "train_df = train_df.drop(['Name', 'PassengerId','Embarked','Ticket','Cabin','Parch','SibSp','Fare'], axis=1)\n",
    "test_df = test_df.drop(['Embarked','Ticket','Cabin','Parch','SibSp','Fare'], axis=1)\n",
    "combine = [train_df,test_df]"
   ]
  },
  {
   "cell_type": "code",
   "execution_count": 101,
   "metadata": {
    "collapsed": true
   },
   "outputs": [],
   "source": [
    "X_train = train_df.drop(\"Survived\", axis=1)\n",
    "Y_train = train_df[\"Survived\"]\n",
    "X_test = test_df.drop(['Name', 'PassengerId'], axis=1)\n",
    "\n",
    "sc = StandardScaler()\n",
    "X_train = sc.fit_transform(X_train)\n",
    "X_test = sc.transform(X_test)"
   ]
  },
  {
   "cell_type": "code",
   "execution_count": 102,
   "metadata": {},
   "outputs": [
    {
     "data": {
      "text/plain": [
       "array([0, 1, 0, 0, 1, 0, 1, 0, 1, 0, 0, 0, 1, 0, 1, 1, 0, 0, 1, 1, 0, 0, 1,\n",
       "       0, 1, 0, 1, 0, 0, 0, 0, 0, 1, 1, 0, 0, 1, 1, 0, 0, 0, 0, 0, 1, 1, 0,\n",
       "       0, 0, 1, 1, 0, 0, 1, 1, 0, 0, 0, 0, 0, 1, 0, 0, 0, 1, 0, 1, 1, 0, 0,\n",
       "       1, 1, 0, 1, 0, 1, 0, 0, 1, 0, 1, 0, 0, 0, 0, 0, 0, 1, 1, 1, 0, 1, 0,\n",
       "       1, 0, 0, 0, 1, 0, 1, 0, 1, 0, 0, 0, 1, 0, 0, 0, 0, 0, 0, 1, 1, 1, 1,\n",
       "       0, 0, 1, 0, 1, 1, 0, 1, 0, 0, 1, 0, 1, 0, 0, 0, 0, 1, 0, 0, 0, 0, 0,\n",
       "       1, 0, 1, 1, 0, 0, 0, 0, 0, 0, 0, 0, 1, 0, 0, 1, 0, 0, 1, 1, 0, 1, 1,\n",
       "       0, 1, 0, 0, 1, 0, 0, 1, 1, 0, 0, 0, 0, 0, 1, 1, 0, 1, 1, 0, 0, 1, 0,\n",
       "       1, 0, 1, 0, 1, 0, 0, 0, 0, 0, 0, 0, 0, 1, 0, 1, 1, 0, 0, 1, 0, 0, 1,\n",
       "       0, 1, 0, 0, 0, 0, 1, 1, 0, 1, 0, 1, 0, 1, 0, 1, 0, 1, 1, 0, 1, 0, 0,\n",
       "       0, 1, 0, 0, 0, 0, 0, 0, 1, 1, 1, 1, 0, 0, 0, 0, 1, 0, 1, 1, 1, 0, 0,\n",
       "       0, 0, 0, 0, 0, 1, 0, 0, 0, 1, 1, 0, 0, 0, 0, 1, 0, 0, 0, 1, 1, 0, 1,\n",
       "       0, 0, 0, 0, 1, 0, 1, 1, 1, 0, 0, 0, 0, 0, 0, 1, 0, 0, 0, 0, 1, 0, 0,\n",
       "       0, 0, 0, 0, 0, 1, 1, 0, 0, 0, 1, 0, 0, 0, 1, 1, 1, 0, 0, 0, 0, 0, 0,\n",
       "       0, 0, 1, 0, 1, 0, 0, 0, 1, 0, 0, 1, 0, 0, 0, 0, 0, 0, 0, 0, 0, 1, 0,\n",
       "       1, 0, 1, 0, 1, 1, 0, 0, 0, 1, 0, 1, 0, 0, 1, 0, 1, 1, 0, 1, 1, 0, 1,\n",
       "       1, 0, 0, 1, 0, 0, 1, 1, 1, 0, 0, 0, 0, 0, 1, 1, 0, 1, 0, 0, 0, 0, 0,\n",
       "       1, 0, 0, 0, 1, 0, 1, 0, 0, 1, 0, 1, 0, 0, 0, 0, 0, 1, 1, 1, 1, 1, 0,\n",
       "       1, 0, 0, 0])"
      ]
     },
     "execution_count": 102,
     "metadata": {},
     "output_type": "execute_result"
    }
   ],
   "source": [
    "# Logistic Regression\n",
    "\n",
    "LogisticRegression = LogisticRegression()\n",
    "LogisticRegression.fit(X_train, Y_train)\n",
    "Y_pred = LogisticRegression.predict(X_test)\n",
    "Y_pred"
   ]
  },
  {
   "cell_type": "code",
   "execution_count": 103,
   "metadata": {},
   "outputs": [
    {
     "data": {
      "text/plain": [
       "78.680000000000007"
      ]
     },
     "execution_count": 103,
     "metadata": {},
     "output_type": "execute_result"
    }
   ],
   "source": [
    "accuracy_log = round(LogisticRegression.score(X_train, Y_train) * 100, 2)\n",
    "accuracy_log"
   ]
  },
  {
   "cell_type": "code",
   "execution_count": 104,
   "metadata": {},
   "outputs": [
    {
     "data": {
      "text/plain": [
       "array([1, 1, 1, 1, 1, 1, 1, 1, 1, 0, 1, 1, 1, 1, 1, 1, 1, 1, 1, 1, 1, 1, 1,\n",
       "       1, 1, 1, 1, 1, 1, 0, 1, 1, 0, 0, 1, 1, 1, 1, 1, 1, 1, 1, 1, 1, 1, 1,\n",
       "       1, 1, 1, 0, 1, 1, 1, 1, 1, 0, 1, 1, 1, 1, 1, 1, 1, 1, 1, 1, 1, 1, 1,\n",
       "       1, 1, 1, 1, 1, 1, 1, 1, 1, 1, 1, 1, 0, 1, 1, 1, 1, 1, 1, 1, 1, 1, 1,\n",
       "       1, 1, 1, 1, 1, 1, 1, 1, 1, 1, 1, 1, 1, 1, 1, 1, 1, 1, 1, 1, 1, 1, 1,\n",
       "       1, 1, 1, 1, 1, 1, 1, 1, 1, 1, 1, 1, 0, 1, 1, 1, 1, 0, 1, 1, 1, 1, 1,\n",
       "       1, 0, 0, 1, 1, 1, 1, 0, 1, 1, 1, 1, 1, 1, 1, 0, 0, 1, 1, 1, 1, 0, 1,\n",
       "       1, 1, 1, 1, 1, 1, 0, 1, 1, 1, 1, 1, 1, 0, 1, 1, 1, 1, 1, 1, 1, 1, 1,\n",
       "       1, 1, 1, 0, 0, 1, 1, 1, 1, 1, 1, 1, 1, 1, 1, 1, 1, 0, 1, 1, 1, 1, 1,\n",
       "       1, 1, 1, 1, 1, 1, 1, 0, 1, 1, 1, 1, 1, 1, 1, 1, 1, 1, 0, 1, 1, 1, 1,\n",
       "       1, 1, 1, 1, 1, 1, 1, 1, 1, 1, 1, 1, 1, 1, 0, 1, 1, 1, 1, 1, 1, 1, 1,\n",
       "       1, 1, 1, 1, 1, 1, 1, 1, 1, 1, 1, 1, 1, 1, 1, 1, 1, 1, 1, 1, 1, 1, 1,\n",
       "       1, 1, 1, 1, 1, 1, 1, 1, 1, 1, 1, 1, 1, 1, 1, 1, 1, 1, 1, 1, 1, 0, 1,\n",
       "       1, 1, 1, 1, 1, 1, 1, 1, 1, 1, 1, 1, 1, 1, 1, 1, 1, 1, 1, 1, 1, 1, 1,\n",
       "       1, 1, 1, 1, 1, 1, 1, 1, 1, 1, 1, 1, 1, 1, 1, 0, 1, 1, 1, 1, 0, 1, 1,\n",
       "       1, 1, 1, 1, 1, 1, 1, 1, 1, 0, 1, 1, 1, 1, 1, 0, 1, 1, 1, 1, 0, 1, 1,\n",
       "       1, 1, 1, 1, 1, 1, 1, 1, 0, 1, 1, 0, 1, 1, 1, 1, 1, 1, 1, 1, 1, 0, 1,\n",
       "       1, 0, 1, 0, 1, 1, 1, 1, 1, 1, 1, 1, 1, 1, 1, 1, 1, 1, 1, 1, 1, 1, 1,\n",
       "       1, 1, 1, 1])"
      ]
     },
     "execution_count": 104,
     "metadata": {},
     "output_type": "execute_result"
    }
   ],
   "source": [
    "# Random Forest\n",
    "\n",
    "RandomForestClassifier = RandomForestClassifier(n_estimators=100)\n",
    "RandomForestClassifier.fit(X_train, Y_train)\n",
    "Y_pred = RandomForestClassifier.predict(X_test)\n",
    "Y_pred"
   ]
  },
  {
   "cell_type": "code",
   "execution_count": 105,
   "metadata": {},
   "outputs": [
    {
     "data": {
      "text/plain": [
       "81.930000000000007"
      ]
     },
     "execution_count": 105,
     "metadata": {},
     "output_type": "execute_result"
    }
   ],
   "source": [
    "accuracy_RandomForestClassifier = round(RandomForestClassifier.score(X_train, Y_train) * 100, 2)\n",
    "accuracy_RandomForestClassifier"
   ]
  },
  {
   "cell_type": "code",
   "execution_count": 106,
   "metadata": {},
   "outputs": [
    {
     "data": {
      "text/plain": [
       "array([0, 1, 1, 0, 1, 0, 1, 1, 1, 0, 0, 1, 1, 1, 1, 1, 1, 0, 1, 1, 1, 0, 1,\n",
       "       1, 0, 0, 1, 0, 1, 0, 1, 1, 0, 0, 1, 0, 1, 1, 0, 0, 0, 1, 0, 1, 1, 0,\n",
       "       1, 0, 1, 0, 1, 1, 1, 0, 1, 0, 0, 0, 0, 1, 0, 1, 0, 1, 1, 1, 1, 1, 1,\n",
       "       0, 1, 0, 1, 1, 1, 1, 0, 0, 1, 1, 0, 0, 1, 0, 1, 0, 1, 1, 1, 1, 1, 0,\n",
       "       0, 0, 1, 0, 1, 0, 1, 0, 1, 1, 0, 0, 1, 0, 0, 0, 0, 1, 1, 1, 1, 1, 1,\n",
       "       0, 0, 1, 1, 1, 1, 0, 1, 0, 0, 1, 0, 0, 1, 0, 0, 1, 0, 0, 0, 0, 0, 1,\n",
       "       1, 0, 0, 1, 1, 1, 1, 0, 1, 0, 1, 1, 1, 0, 0, 0, 0, 0, 1, 1, 1, 0, 1,\n",
       "       0, 1, 0, 1, 1, 1, 0, 1, 1, 0, 0, 0, 0, 0, 1, 1, 1, 1, 0, 1, 1, 1, 0,\n",
       "       1, 1, 1, 0, 0, 1, 1, 1, 0, 1, 1, 0, 1, 1, 1, 1, 1, 0, 1, 1, 1, 1, 1,\n",
       "       1, 1, 0, 0, 0, 1, 1, 0, 1, 1, 1, 1, 0, 1, 0, 1, 0, 1, 0, 0, 1, 0, 1,\n",
       "       1, 1, 0, 0, 1, 0, 1, 0, 1, 1, 1, 1, 1, 0, 0, 1, 1, 1, 1, 1, 1, 0, 1,\n",
       "       0, 0, 0, 0, 0, 1, 0, 0, 0, 1, 1, 1, 0, 1, 0, 1, 0, 1, 0, 1, 1, 0, 1,\n",
       "       1, 1, 1, 1, 1, 0, 1, 1, 1, 0, 0, 1, 0, 0, 1, 1, 0, 1, 0, 0, 1, 0, 1,\n",
       "       0, 0, 1, 1, 0, 1, 1, 1, 0, 1, 1, 0, 0, 0, 1, 1, 1, 1, 1, 0, 1, 0, 0,\n",
       "       1, 1, 1, 0, 1, 1, 1, 1, 1, 1, 0, 1, 0, 1, 1, 0, 1, 0, 1, 0, 0, 1, 0,\n",
       "       1, 1, 1, 1, 1, 1, 1, 1, 1, 0, 1, 0, 0, 0, 1, 0, 1, 1, 0, 1, 0, 0, 1,\n",
       "       1, 1, 1, 1, 1, 1, 1, 1, 0, 1, 1, 0, 0, 0, 1, 1, 1, 1, 0, 1, 0, 0, 1,\n",
       "       1, 0, 1, 0, 1, 0, 1, 0, 0, 1, 1, 1, 1, 1, 1, 1, 1, 1, 1, 1, 1, 1, 0,\n",
       "       1, 0, 0, 0])"
      ]
     },
     "execution_count": 106,
     "metadata": {},
     "output_type": "execute_result"
    }
   ],
   "source": [
    "# Decision Tree\n",
    "\n",
    "DecisionTreeClassifier = DecisionTreeClassifier()\n",
    "DecisionTreeClassifier.fit(X_train, Y_train)\n",
    "Y_pred = DecisionTreeClassifier.predict(X_test)\n",
    "Y_pred"
   ]
  },
  {
   "cell_type": "code",
   "execution_count": 107,
   "metadata": {},
   "outputs": [
    {
     "data": {
      "text/plain": [
       "81.930000000000007"
      ]
     },
     "execution_count": 107,
     "metadata": {},
     "output_type": "execute_result"
    }
   ],
   "source": [
    "accuracy_DecisionTreeClassifier = round(DecisionTreeClassifier.score(X_train, Y_train) * 100, 2)\n",
    "accuracy_DecisionTreeClassifier"
   ]
  },
  {
   "cell_type": "code",
   "execution_count": 108,
   "metadata": {},
   "outputs": [
    {
     "data": {
      "text/plain": [
       "array([0, 1, 0, 0, 1, 0, 1, 0, 1, 0, 0, 1, 1, 0, 1, 1, 0, 0, 1, 1, 1, 0, 1,\n",
       "       1, 1, 0, 1, 0, 1, 0, 0, 0, 0, 0, 1, 0, 1, 1, 0, 0, 0, 1, 0, 1, 1, 0,\n",
       "       1, 0, 1, 0, 1, 0, 0, 1, 0, 0, 0, 0, 0, 1, 0, 0, 0, 1, 0, 1, 1, 1, 1,\n",
       "       1, 1, 0, 1, 1, 1, 1, 0, 1, 0, 1, 0, 0, 1, 0, 0, 0, 1, 1, 1, 0, 1, 0,\n",
       "       1, 0, 1, 0, 0, 0, 1, 0, 1, 0, 0, 0, 1, 0, 0, 0, 0, 0, 0, 1, 1, 1, 1,\n",
       "       0, 0, 1, 1, 1, 1, 0, 1, 0, 0, 1, 0, 0, 0, 0, 0, 1, 0, 0, 0, 0, 0, 0,\n",
       "       1, 0, 0, 1, 0, 0, 1, 0, 1, 0, 1, 0, 1, 0, 0, 0, 0, 0, 1, 1, 1, 0, 1,\n",
       "       0, 1, 0, 0, 1, 1, 0, 1, 1, 0, 0, 0, 0, 0, 0, 1, 1, 0, 1, 0, 1, 1, 0,\n",
       "       1, 0, 1, 0, 0, 0, 0, 1, 0, 0, 0, 0, 0, 1, 0, 1, 1, 0, 1, 1, 0, 1, 1,\n",
       "       0, 1, 0, 0, 0, 0, 1, 0, 1, 1, 1, 1, 0, 1, 0, 1, 0, 1, 0, 0, 1, 0, 0,\n",
       "       0, 1, 0, 0, 1, 0, 1, 0, 1, 1, 1, 0, 1, 0, 0, 1, 1, 0, 1, 1, 0, 0, 1,\n",
       "       0, 0, 0, 0, 0, 1, 0, 0, 0, 0, 1, 0, 0, 1, 0, 1, 0, 1, 0, 1, 1, 0, 1,\n",
       "       0, 0, 0, 0, 1, 0, 1, 1, 1, 0, 0, 1, 0, 0, 1, 1, 0, 1, 0, 0, 0, 0, 1,\n",
       "       0, 0, 0, 0, 0, 1, 1, 0, 0, 1, 1, 0, 0, 0, 1, 1, 1, 1, 0, 0, 0, 0, 0,\n",
       "       0, 1, 1, 0, 0, 1, 0, 0, 0, 1, 0, 1, 0, 1, 0, 0, 0, 0, 0, 0, 0, 1, 0,\n",
       "       1, 0, 1, 0, 1, 1, 0, 0, 0, 0, 1, 1, 0, 0, 1, 0, 1, 1, 0, 1, 0, 0, 1,\n",
       "       1, 0, 0, 1, 1, 0, 1, 1, 0, 0, 1, 0, 0, 0, 1, 1, 0, 0, 0, 0, 0, 0, 1,\n",
       "       1, 0, 0, 0, 1, 0, 1, 0, 0, 1, 0, 1, 1, 1, 0, 0, 1, 1, 1, 1, 1, 1, 0,\n",
       "       1, 0, 0, 0])"
      ]
     },
     "execution_count": 108,
     "metadata": {},
     "output_type": "execute_result"
    }
   ],
   "source": [
    "# Perceptron\n",
    "\n",
    "Perceptron = Perceptron()\n",
    "Perceptron.fit(X_train, Y_train)\n",
    "Y_pred = Perceptron.predict(X_test)\n",
    "Y_pred"
   ]
  },
  {
   "cell_type": "code",
   "execution_count": 109,
   "metadata": {},
   "outputs": [
    {
     "data": {
      "text/plain": [
       "77.219999999999999"
      ]
     },
     "execution_count": 109,
     "metadata": {},
     "output_type": "execute_result"
    }
   ],
   "source": [
    "accuracy_Perceptron = round(Perceptron.score(X_train, Y_train) * 100, 2)\n",
    "accuracy_Perceptron"
   ]
  },
  {
   "cell_type": "code",
   "execution_count": 110,
   "metadata": {},
   "outputs": [
    {
     "data": {
      "text/plain": [
       "array([0, 1, 0, 0, 1, 0, 1, 0, 1, 0, 0, 0, 1, 0, 1, 1, 0, 0, 1, 1, 0, 0, 1,\n",
       "       0, 1, 0, 1, 0, 0, 0, 0, 0, 0, 0, 0, 0, 1, 1, 0, 0, 0, 0, 0, 1, 1, 0,\n",
       "       0, 0, 1, 0, 0, 0, 1, 1, 0, 0, 0, 0, 0, 1, 0, 0, 0, 1, 0, 1, 1, 0, 0,\n",
       "       1, 1, 0, 1, 0, 1, 0, 0, 1, 0, 1, 0, 0, 0, 0, 0, 0, 1, 1, 1, 0, 1, 0,\n",
       "       1, 0, 0, 0, 0, 0, 1, 0, 1, 0, 0, 0, 1, 0, 0, 0, 0, 0, 0, 1, 1, 1, 1,\n",
       "       0, 0, 1, 0, 1, 1, 0, 1, 0, 0, 1, 0, 0, 0, 0, 0, 0, 0, 0, 0, 0, 0, 0,\n",
       "       1, 0, 0, 1, 0, 0, 0, 0, 0, 0, 0, 0, 1, 0, 0, 0, 0, 0, 1, 1, 0, 0, 1,\n",
       "       0, 1, 0, 0, 1, 0, 0, 1, 1, 0, 0, 0, 0, 0, 1, 1, 0, 1, 1, 0, 0, 1, 0,\n",
       "       1, 0, 1, 0, 0, 0, 0, 0, 0, 0, 0, 0, 0, 1, 0, 1, 1, 0, 0, 1, 0, 0, 1,\n",
       "       0, 1, 0, 0, 0, 0, 1, 0, 0, 1, 0, 1, 0, 1, 0, 1, 0, 1, 0, 0, 1, 0, 0,\n",
       "       0, 1, 0, 0, 0, 0, 0, 0, 1, 1, 1, 1, 0, 0, 0, 0, 1, 0, 1, 1, 1, 0, 0,\n",
       "       0, 0, 0, 0, 0, 1, 0, 0, 0, 1, 1, 0, 0, 0, 0, 1, 0, 0, 0, 1, 1, 0, 1,\n",
       "       0, 0, 0, 0, 1, 0, 1, 1, 1, 0, 0, 0, 0, 0, 0, 1, 0, 0, 0, 0, 1, 0, 0,\n",
       "       0, 0, 0, 0, 0, 1, 1, 0, 0, 0, 1, 0, 0, 0, 1, 1, 1, 0, 0, 0, 0, 0, 0,\n",
       "       0, 0, 1, 0, 1, 0, 0, 0, 1, 0, 0, 1, 0, 0, 0, 0, 0, 0, 0, 0, 0, 1, 0,\n",
       "       1, 0, 1, 0, 1, 1, 0, 0, 0, 0, 0, 1, 0, 0, 1, 0, 1, 1, 0, 1, 0, 0, 1,\n",
       "       1, 0, 0, 1, 0, 0, 1, 1, 0, 0, 0, 0, 0, 0, 1, 1, 0, 1, 0, 0, 0, 0, 0,\n",
       "       1, 0, 0, 0, 1, 0, 1, 0, 0, 1, 0, 1, 0, 0, 0, 0, 0, 1, 1, 1, 1, 1, 0,\n",
       "       1, 0, 0, 0])"
      ]
     },
     "execution_count": 110,
     "metadata": {},
     "output_type": "execute_result"
    }
   ],
   "source": [
    "# Support Vector Machines\n",
    "\n",
    "svc = SVC()\n",
    "svc.fit(X_train, Y_train)\n",
    "Y_pred = svc.predict(X_test)\n",
    "Y_pred"
   ]
  },
  {
   "cell_type": "code",
   "execution_count": 111,
   "metadata": {},
   "outputs": [
    {
     "data": {
      "text/plain": [
       "80.359999999999999"
      ]
     },
     "execution_count": 111,
     "metadata": {},
     "output_type": "execute_result"
    }
   ],
   "source": [
    "accuracy_svc = round(svc.score(X_train, Y_train) * 100, 2)\n",
    "accuracy_svc"
   ]
  },
  {
   "cell_type": "code",
   "execution_count": 112,
   "metadata": {},
   "outputs": [
    {
     "data": {
      "text/plain": [
       "array([0, 1, 0, 0, 1, 0, 1, 0, 1, 0, 0, 0, 1, 0, 1, 1, 0, 0, 1, 1, 0, 0, 1,\n",
       "       0, 1, 0, 1, 0, 0, 0, 0, 0, 1, 1, 0, 0, 1, 1, 0, 0, 0, 0, 0, 1, 1, 0,\n",
       "       0, 0, 1, 1, 0, 0, 1, 1, 0, 0, 0, 0, 0, 1, 0, 0, 0, 1, 0, 1, 1, 0, 0,\n",
       "       1, 1, 0, 1, 0, 1, 0, 0, 1, 0, 1, 0, 0, 0, 0, 0, 0, 1, 1, 1, 0, 1, 0,\n",
       "       1, 0, 0, 0, 1, 0, 1, 0, 1, 0, 0, 0, 1, 0, 0, 0, 0, 0, 0, 1, 1, 1, 1,\n",
       "       0, 0, 1, 0, 1, 1, 0, 1, 0, 0, 1, 0, 1, 0, 0, 0, 0, 1, 0, 0, 0, 0, 0,\n",
       "       1, 0, 1, 1, 0, 0, 0, 0, 0, 0, 0, 0, 1, 0, 0, 1, 0, 0, 1, 1, 0, 1, 1,\n",
       "       0, 1, 0, 0, 1, 0, 0, 1, 1, 0, 0, 0, 0, 0, 1, 1, 0, 1, 1, 0, 0, 1, 0,\n",
       "       1, 0, 1, 0, 1, 0, 0, 0, 0, 0, 0, 0, 0, 1, 0, 1, 1, 0, 0, 1, 0, 0, 1,\n",
       "       0, 1, 0, 0, 0, 0, 1, 1, 0, 1, 0, 1, 0, 1, 0, 1, 0, 1, 1, 0, 1, 0, 0,\n",
       "       0, 1, 0, 0, 0, 0, 0, 0, 1, 1, 1, 1, 0, 0, 0, 0, 1, 0, 1, 1, 1, 0, 0,\n",
       "       0, 0, 0, 0, 0, 1, 0, 0, 0, 1, 1, 0, 0, 0, 0, 1, 0, 0, 0, 1, 1, 0, 1,\n",
       "       0, 0, 0, 0, 1, 0, 1, 1, 1, 0, 0, 0, 0, 0, 0, 1, 0, 0, 0, 0, 1, 0, 0,\n",
       "       0, 0, 0, 0, 0, 1, 1, 0, 0, 0, 1, 0, 0, 0, 1, 1, 1, 0, 0, 0, 0, 0, 0,\n",
       "       0, 0, 1, 0, 1, 0, 0, 0, 1, 0, 0, 1, 0, 0, 0, 0, 0, 0, 0, 0, 0, 1, 0,\n",
       "       1, 0, 1, 0, 1, 1, 0, 0, 0, 1, 0, 1, 0, 0, 1, 0, 1, 1, 0, 1, 1, 0, 1,\n",
       "       1, 0, 0, 1, 0, 0, 1, 1, 1, 0, 0, 0, 0, 0, 1, 1, 0, 1, 0, 0, 0, 0, 0,\n",
       "       1, 0, 0, 0, 1, 0, 1, 0, 0, 1, 0, 1, 0, 0, 0, 0, 0, 1, 1, 1, 1, 1, 0,\n",
       "       1, 0, 0, 0])"
      ]
     },
     "execution_count": 112,
     "metadata": {},
     "output_type": "execute_result"
    }
   ],
   "source": [
    "# Linear SVC\n",
    "\n",
    "linear_svc = LinearSVC()\n",
    "linear_svc.fit(X_train, Y_train)\n",
    "Y_pred = linear_svc.predict(X_test)\n",
    "Y_pred"
   ]
  },
  {
   "cell_type": "code",
   "execution_count": 113,
   "metadata": {},
   "outputs": [
    {
     "data": {
      "text/plain": [
       "78.680000000000007"
      ]
     },
     "execution_count": 113,
     "metadata": {},
     "output_type": "execute_result"
    }
   ],
   "source": [
    "accuracy_linear_svc = round(linear_svc.score(X_train, Y_train) * 100, 2)\n",
    "accuracy_linear_svc"
   ]
  },
  {
   "cell_type": "code",
   "execution_count": 114,
   "metadata": {},
   "outputs": [
    {
     "data": {
      "text/plain": [
       "array([0, 1, 0, 0, 1, 0, 1, 0, 1, 0, 0, 0, 1, 0, 1, 1, 0, 0, 1, 1, 0, 0, 1,\n",
       "       0, 1, 0, 1, 0, 0, 0, 0, 0, 1, 1, 0, 0, 1, 1, 0, 0, 0, 0, 0, 1, 1, 0,\n",
       "       0, 0, 1, 1, 0, 0, 1, 1, 0, 0, 0, 0, 0, 1, 0, 0, 0, 1, 0, 1, 1, 0, 0,\n",
       "       1, 1, 0, 1, 0, 1, 0, 0, 1, 0, 1, 0, 0, 0, 0, 0, 0, 1, 1, 1, 0, 1, 0,\n",
       "       1, 0, 0, 0, 0, 0, 1, 0, 1, 0, 0, 0, 1, 0, 0, 0, 0, 0, 0, 1, 1, 1, 1,\n",
       "       0, 0, 1, 0, 1, 1, 0, 1, 0, 0, 1, 0, 1, 0, 0, 0, 0, 1, 0, 0, 0, 0, 0,\n",
       "       1, 0, 1, 1, 0, 0, 0, 0, 0, 0, 0, 0, 1, 0, 0, 1, 0, 0, 1, 1, 0, 1, 1,\n",
       "       0, 1, 0, 0, 1, 0, 0, 1, 1, 0, 0, 0, 0, 0, 1, 1, 0, 1, 1, 0, 0, 1, 0,\n",
       "       1, 0, 1, 0, 1, 0, 0, 0, 0, 0, 0, 0, 0, 1, 0, 1, 1, 0, 0, 1, 0, 0, 1,\n",
       "       0, 1, 0, 0, 0, 0, 1, 1, 0, 1, 0, 1, 0, 1, 0, 1, 0, 1, 1, 0, 1, 0, 0,\n",
       "       0, 1, 0, 0, 0, 0, 0, 0, 1, 1, 1, 1, 0, 0, 0, 0, 1, 0, 1, 1, 1, 0, 0,\n",
       "       0, 0, 0, 0, 0, 1, 0, 0, 0, 1, 1, 0, 0, 0, 0, 1, 0, 0, 0, 1, 1, 0, 1,\n",
       "       0, 0, 0, 0, 1, 0, 1, 1, 1, 0, 0, 0, 0, 0, 0, 1, 0, 0, 0, 0, 1, 0, 0,\n",
       "       0, 0, 0, 0, 0, 1, 1, 0, 0, 0, 1, 0, 0, 0, 1, 1, 1, 0, 0, 0, 0, 0, 0,\n",
       "       0, 0, 1, 0, 1, 0, 0, 0, 1, 0, 0, 1, 0, 0, 0, 0, 0, 0, 0, 0, 0, 1, 0,\n",
       "       1, 0, 1, 0, 1, 1, 0, 0, 0, 1, 0, 1, 0, 0, 1, 0, 1, 1, 0, 1, 1, 0, 1,\n",
       "       1, 0, 0, 1, 0, 0, 1, 1, 1, 0, 0, 0, 0, 0, 1, 1, 0, 1, 0, 0, 0, 0, 0,\n",
       "       1, 0, 0, 0, 1, 0, 1, 0, 0, 1, 0, 1, 0, 0, 0, 0, 0, 1, 1, 1, 1, 1, 0,\n",
       "       1, 0, 0, 0])"
      ]
     },
     "execution_count": 114,
     "metadata": {},
     "output_type": "execute_result"
    }
   ],
   "source": [
    "# Stochastic Gradient Descent\n",
    "\n",
    "SGDClassifier = SGDClassifier()\n",
    "SGDClassifier.fit(X_train, Y_train)\n",
    "Y_pred = SGDClassifier.predict(X_test)\n",
    "Y_pred"
   ]
  },
  {
   "cell_type": "code",
   "execution_count": 115,
   "metadata": {},
   "outputs": [
    {
     "data": {
      "text/plain": [
       "78.680000000000007"
      ]
     },
     "execution_count": 115,
     "metadata": {},
     "output_type": "execute_result"
    }
   ],
   "source": [
    "accuracy_SGDClassifier = round(SGDClassifier.score(X_train, Y_train) * 100, 2)\n",
    "accuracy_SGDClassifier "
   ]
  },
  {
   "cell_type": "code",
   "execution_count": 116,
   "metadata": {},
   "outputs": [
    {
     "data": {
      "text/plain": [
       "array([0, 1, 1, 0, 1, 0, 1, 1, 1, 0, 0, 0, 1, 1, 1, 1, 1, 0, 1, 1, 0, 0, 1,\n",
       "       0, 0, 0, 1, 0, 0, 0, 1, 1, 0, 0, 0, 0, 1, 1, 0, 0, 0, 0, 0, 1, 1, 0,\n",
       "       0, 0, 1, 0, 0, 1, 1, 0, 1, 0, 0, 0, 0, 1, 0, 1, 0, 1, 1, 1, 1, 0, 0,\n",
       "       0, 1, 0, 1, 0, 1, 0, 0, 0, 1, 1, 0, 0, 0, 0, 1, 0, 1, 1, 1, 1, 1, 0,\n",
       "       0, 0, 0, 0, 0, 0, 1, 0, 1, 1, 0, 0, 1, 0, 0, 0, 0, 1, 1, 1, 1, 1, 1,\n",
       "       0, 0, 1, 0, 1, 1, 0, 1, 0, 0, 1, 0, 0, 1, 0, 0, 0, 0, 0, 0, 0, 0, 1,\n",
       "       1, 0, 0, 1, 1, 1, 0, 0, 0, 0, 0, 1, 1, 0, 0, 0, 0, 0, 1, 1, 0, 0, 1,\n",
       "       0, 1, 0, 1, 1, 0, 0, 1, 1, 0, 0, 0, 0, 0, 1, 1, 0, 1, 0, 1, 0, 1, 0,\n",
       "       1, 1, 1, 0, 0, 1, 1, 0, 0, 1, 1, 0, 1, 1, 1, 1, 1, 0, 0, 1, 1, 0, 1,\n",
       "       1, 1, 0, 0, 0, 1, 1, 0, 0, 1, 0, 1, 0, 1, 0, 1, 0, 1, 0, 0, 1, 0, 1,\n",
       "       1, 1, 0, 0, 0, 0, 0, 0, 1, 1, 1, 1, 0, 0, 0, 0, 1, 1, 1, 1, 1, 0, 0,\n",
       "       0, 0, 0, 0, 0, 1, 0, 0, 0, 1, 1, 1, 0, 0, 0, 1, 0, 0, 0, 1, 1, 0, 1,\n",
       "       1, 1, 1, 1, 1, 0, 1, 1, 1, 0, 0, 0, 0, 0, 0, 1, 0, 0, 0, 0, 1, 0, 0,\n",
       "       0, 0, 1, 1, 0, 1, 1, 1, 0, 0, 1, 0, 0, 0, 1, 1, 1, 0, 1, 0, 1, 0, 0,\n",
       "       1, 0, 1, 0, 1, 0, 1, 1, 1, 0, 0, 1, 0, 0, 1, 0, 1, 0, 1, 0, 0, 1, 0,\n",
       "       1, 1, 1, 1, 1, 1, 1, 1, 1, 0, 0, 0, 0, 0, 1, 0, 1, 1, 0, 1, 0, 0, 1,\n",
       "       1, 1, 1, 1, 0, 1, 1, 1, 0, 1, 0, 0, 0, 0, 1, 1, 1, 1, 0, 1, 0, 0, 0,\n",
       "       1, 0, 1, 0, 1, 0, 1, 0, 0, 1, 1, 1, 0, 0, 1, 1, 0, 1, 1, 1, 1, 1, 0,\n",
       "       1, 0, 0, 0])"
      ]
     },
     "execution_count": 116,
     "metadata": {},
     "output_type": "execute_result"
    }
   ],
   "source": [
    "KNeighborsClassifier = KNeighborsClassifier(n_neighbors = 3)\n",
    "KNeighborsClassifier.fit(X_train, Y_train)\n",
    "Y_pred = KNeighborsClassifier.predict(X_test)\n",
    "Y_pred"
   ]
  },
  {
   "cell_type": "code",
   "execution_count": 117,
   "metadata": {},
   "outputs": [
    {
     "data": {
      "text/plain": [
       "78.109999999999999"
      ]
     },
     "execution_count": 117,
     "metadata": {},
     "output_type": "execute_result"
    }
   ],
   "source": [
    "accuracy_KNeighborsClassifier = round(KNeighborsClassifier.score(X_train, Y_train) * 100, 2)\n",
    "accuracy_KNeighborsClassifier"
   ]
  },
  {
   "cell_type": "code",
   "execution_count": 118,
   "metadata": {},
   "outputs": [
    {
     "data": {
      "text/plain": [
       "array([0, 1, 0, 0, 1, 0, 1, 0, 1, 0, 0, 1, 1, 0, 1, 1, 0, 0, 1, 1, 1, 0, 1,\n",
       "       1, 1, 0, 1, 0, 1, 0, 0, 0, 1, 1, 1, 0, 1, 1, 0, 0, 0, 1, 0, 1, 1, 0,\n",
       "       1, 0, 1, 1, 1, 0, 1, 1, 0, 0, 0, 0, 0, 1, 0, 0, 0, 1, 1, 1, 1, 1, 1,\n",
       "       1, 1, 0, 1, 1, 1, 1, 0, 1, 0, 1, 0, 0, 1, 0, 0, 0, 1, 1, 1, 0, 1, 0,\n",
       "       1, 0, 1, 0, 0, 0, 1, 0, 1, 0, 0, 0, 1, 0, 0, 0, 0, 0, 0, 1, 1, 1, 1,\n",
       "       0, 0, 1, 1, 1, 1, 0, 1, 0, 0, 1, 0, 1, 0, 0, 0, 1, 1, 0, 0, 0, 0, 0,\n",
       "       1, 0, 1, 1, 1, 0, 1, 0, 1, 0, 1, 0, 1, 0, 0, 1, 0, 0, 1, 1, 1, 1, 1,\n",
       "       0, 1, 0, 0, 1, 1, 0, 1, 1, 0, 0, 0, 0, 0, 1, 1, 1, 1, 1, 0, 1, 1, 0,\n",
       "       1, 0, 1, 0, 1, 0, 0, 1, 0, 0, 0, 0, 1, 1, 0, 1, 1, 0, 1, 1, 0, 1, 1,\n",
       "       0, 1, 0, 0, 0, 0, 1, 1, 1, 1, 1, 1, 0, 1, 0, 1, 0, 1, 1, 0, 1, 0, 0,\n",
       "       0, 1, 0, 0, 1, 0, 1, 0, 1, 1, 1, 1, 1, 0, 0, 1, 1, 0, 1, 1, 1, 0, 1,\n",
       "       0, 0, 0, 0, 0, 1, 0, 0, 0, 1, 1, 0, 0, 1, 0, 1, 0, 1, 0, 1, 1, 0, 1,\n",
       "       0, 0, 0, 0, 1, 0, 1, 1, 1, 0, 0, 1, 0, 0, 1, 1, 0, 1, 0, 0, 1, 0, 1,\n",
       "       0, 0, 0, 0, 0, 1, 1, 1, 0, 1, 1, 0, 0, 0, 1, 1, 1, 1, 0, 0, 0, 0, 0,\n",
       "       0, 1, 1, 0, 1, 1, 0, 0, 1, 1, 0, 1, 0, 1, 0, 0, 0, 0, 0, 0, 0, 1, 0,\n",
       "       1, 0, 1, 0, 1, 1, 0, 0, 0, 1, 1, 1, 0, 0, 1, 0, 1, 1, 0, 1, 1, 0, 1,\n",
       "       1, 0, 0, 1, 1, 0, 1, 1, 1, 0, 1, 0, 0, 0, 1, 1, 0, 1, 0, 0, 0, 0, 1,\n",
       "       1, 0, 0, 0, 1, 0, 1, 0, 0, 1, 0, 1, 1, 1, 0, 0, 1, 1, 1, 1, 1, 1, 0,\n",
       "       1, 0, 0, 0])"
      ]
     },
     "execution_count": 118,
     "metadata": {},
     "output_type": "execute_result"
    }
   ],
   "source": [
    "# Gaussian Naive Bayes\n",
    "\n",
    "GaussianNB = GaussianNB()\n",
    "GaussianNB.fit(X_train, Y_train)\n",
    "Y_pred = GaussianNB.predict(X_test)\n",
    "Y_pred"
   ]
  },
  {
   "cell_type": "code",
   "execution_count": 119,
   "metadata": {},
   "outputs": [
    {
     "data": {
      "text/plain": [
       "75.530000000000001"
      ]
     },
     "execution_count": 119,
     "metadata": {},
     "output_type": "execute_result"
    }
   ],
   "source": [
    "accuracy_GaussianNB = round(GaussianNB.score(X_train, Y_train) * 100, 2)\n",
    "accuracy_GaussianNB"
   ]
  },
  {
   "cell_type": "code",
   "execution_count": 120,
   "metadata": {},
   "outputs": [
    {
     "data": {
      "text/plain": [
       "array([0, 1, 1, 0, 1, 0, 1, 1, 1, 0, 0, 1, 1, 1, 1, 1, 1, 0, 1, 1, 1, 0, 1,\n",
       "       1, 1, 0, 1, 0, 1, 0, 1, 1, 0, 0, 1, 0, 1, 1, 0, 0, 0, 1, 0, 1, 1, 0,\n",
       "       1, 0, 1, 0, 1, 1, 1, 1, 1, 0, 0, 0, 0, 1, 0, 1, 0, 1, 1, 1, 1, 1, 1,\n",
       "       1, 1, 0, 1, 1, 1, 1, 0, 1, 1, 1, 0, 0, 1, 0, 1, 0, 1, 1, 1, 1, 1, 0,\n",
       "       1, 0, 1, 0, 1, 0, 1, 0, 1, 1, 0, 0, 1, 0, 0, 0, 0, 1, 1, 1, 1, 1, 1,\n",
       "       0, 0, 1, 1, 1, 1, 0, 1, 0, 0, 1, 0, 0, 1, 0, 0, 1, 0, 0, 0, 0, 0, 1,\n",
       "       1, 0, 0, 1, 1, 1, 1, 0, 1, 0, 1, 1, 1, 0, 0, 0, 0, 0, 1, 1, 1, 0, 1,\n",
       "       0, 1, 0, 1, 1, 1, 0, 1, 1, 0, 0, 0, 0, 0, 1, 1, 1, 1, 1, 1, 1, 1, 0,\n",
       "       1, 1, 1, 0, 0, 1, 1, 1, 0, 1, 1, 0, 1, 1, 1, 1, 1, 0, 1, 1, 1, 1, 1,\n",
       "       1, 1, 0, 0, 0, 1, 1, 0, 1, 1, 1, 1, 0, 1, 0, 1, 0, 1, 0, 0, 1, 0, 1,\n",
       "       1, 1, 0, 0, 1, 0, 1, 0, 1, 1, 1, 1, 1, 0, 0, 1, 1, 1, 1, 1, 1, 0, 1,\n",
       "       0, 0, 0, 0, 0, 1, 0, 0, 0, 1, 1, 1, 0, 1, 0, 1, 0, 1, 0, 1, 1, 0, 1,\n",
       "       1, 1, 1, 1, 1, 0, 1, 1, 1, 0, 0, 1, 0, 0, 1, 1, 0, 1, 0, 0, 1, 0, 1,\n",
       "       0, 0, 1, 1, 0, 1, 1, 1, 0, 1, 1, 0, 0, 0, 1, 1, 1, 1, 1, 0, 1, 0, 0,\n",
       "       1, 1, 1, 0, 1, 1, 1, 1, 1, 1, 0, 1, 0, 1, 1, 0, 1, 0, 1, 0, 0, 1, 0,\n",
       "       1, 1, 1, 1, 1, 1, 1, 1, 1, 0, 1, 1, 0, 0, 1, 0, 1, 1, 0, 1, 0, 0, 1,\n",
       "       1, 1, 1, 1, 1, 1, 1, 1, 0, 1, 1, 0, 0, 0, 1, 1, 1, 1, 0, 1, 0, 0, 1,\n",
       "       1, 0, 1, 0, 1, 0, 1, 0, 0, 1, 1, 1, 1, 1, 1, 1, 1, 1, 1, 1, 1, 1, 0,\n",
       "       1, 0, 0, 0])"
      ]
     },
     "execution_count": 120,
     "metadata": {},
     "output_type": "execute_result"
    }
   ],
   "source": [
    "#xgboost\n",
    "xgboost_prediction = xgb.XGBClassifier(max_depth=3, n_estimators=300, learning_rate=0.05).fit(X_train, Y_train)\n",
    "Y_pred = xgboost_prediction.predict(X_test)\n",
    "Y_pred"
   ]
  },
  {
   "cell_type": "code",
   "execution_count": 121,
   "metadata": {},
   "outputs": [
    {
     "data": {
      "text/plain": [
       "81.709999999999994"
      ]
     },
     "execution_count": 121,
     "metadata": {},
     "output_type": "execute_result"
    }
   ],
   "source": [
    "accuracy_xgboost_prediction = round(xgboost_prediction.score(X_train, Y_train) * 100, 2)\n",
    "accuracy_xgboost_prediction"
   ]
  },
  {
   "cell_type": "code",
   "execution_count": 122,
   "metadata": {
    "collapsed": true
   },
   "outputs": [],
   "source": [
    "#validating models using K-Fold\n",
    "\n",
    "\n",
    "def run_kfold(model):\n",
    "    print(\"\\n\")\n",
    "    print(str(model).split(\"(\")[0])\n",
    "    print(\"\\n\")\n",
    "    kf = KFold(891, n_folds=10)\n",
    "    outcomes = []\n",
    "    fold = 0\n",
    "    for train_index, test_index in kf:\n",
    "        fold += 1\n",
    "        model.fit(X_train, Y_train)\n",
    "        Y_pred = model.predict(X_test)\n",
    "        accuracy = round(model.score(X_train, Y_train) * 100, 2)\n",
    "        outcomes.append(accuracy)\n",
    "        print(\"Fold {0} accuracy: {1}\".format(fold, accuracy))     \n",
    "    mean_outcome = np.mean(outcomes)\n",
    "    print(\"Mean Accuracy: {0}\".format(mean_outcome)) "
   ]
  },
  {
   "cell_type": "code",
   "execution_count": 123,
   "metadata": {
    "scrolled": true
   },
   "outputs": [
    {
     "name": "stdout",
     "output_type": "stream",
     "text": [
      "\n",
      "\n",
      "LogisticRegression\n",
      "\n",
      "\n",
      "Fold 1 accuracy: 78.68\n",
      "Fold 2 accuracy: 78.68\n",
      "Fold 3 accuracy: 78.68\n",
      "Fold 4 accuracy: 78.68\n",
      "Fold 5 accuracy: 78.68\n",
      "Fold 6 accuracy: 78.68\n",
      "Fold 7 accuracy: 78.68\n",
      "Fold 8 accuracy: 78.68\n",
      "Fold 9 accuracy: 78.68\n",
      "Fold 10 accuracy: 78.68\n",
      "Mean Accuracy: 78.68000000000002\n",
      "\n",
      "\n",
      "RandomForestClassifier\n",
      "\n",
      "\n",
      "Fold 1 accuracy: 81.93\n",
      "Fold 2 accuracy: 81.93\n",
      "Fold 3 accuracy: 81.93\n",
      "Fold 4 accuracy: 81.93\n",
      "Fold 5 accuracy: 81.93\n",
      "Fold 6 accuracy: 81.93\n",
      "Fold 7 accuracy: 81.93\n",
      "Fold 8 accuracy: 81.82\n",
      "Fold 9 accuracy: 81.93\n",
      "Fold 10 accuracy: 81.93\n",
      "Mean Accuracy: 81.91900000000001\n",
      "\n",
      "\n",
      "DecisionTreeClassifier\n",
      "\n",
      "\n",
      "Fold 1 accuracy: 81.93\n",
      "Fold 2 accuracy: 81.93\n",
      "Fold 3 accuracy: 81.93\n",
      "Fold 4 accuracy: 81.93\n",
      "Fold 5 accuracy: 81.93\n",
      "Fold 6 accuracy: 81.93\n",
      "Fold 7 accuracy: 81.93\n",
      "Fold 8 accuracy: 81.93\n",
      "Fold 9 accuracy: 81.93\n",
      "Fold 10 accuracy: 81.93\n",
      "Mean Accuracy: 81.93000000000002\n",
      "\n",
      "\n",
      "Perceptron\n",
      "\n",
      "\n",
      "Fold 1 accuracy: 77.22\n",
      "Fold 2 accuracy: 77.22\n",
      "Fold 3 accuracy: 77.22\n",
      "Fold 4 accuracy: 77.22\n",
      "Fold 5 accuracy: 77.22\n",
      "Fold 6 accuracy: 77.22\n",
      "Fold 7 accuracy: 77.22\n",
      "Fold 8 accuracy: 77.22\n",
      "Fold 9 accuracy: 77.22\n",
      "Fold 10 accuracy: 77.22\n",
      "Mean Accuracy: 77.22\n",
      "\n",
      "\n",
      "XGBClassifier\n",
      "\n",
      "\n",
      "Fold 1 accuracy: 81.71\n",
      "Fold 2 accuracy: 81.71\n",
      "Fold 3 accuracy: 81.71\n",
      "Fold 4 accuracy: 81.71\n",
      "Fold 5 accuracy: 81.71\n",
      "Fold 6 accuracy: 81.71\n",
      "Fold 7 accuracy: 81.71\n",
      "Fold 8 accuracy: 81.71\n",
      "Fold 9 accuracy: 81.71\n",
      "Fold 10 accuracy: 81.71\n",
      "Mean Accuracy: 81.71000000000001\n",
      "\n",
      "\n",
      "SVC\n",
      "\n",
      "\n",
      "Fold 1 accuracy: 80.36\n",
      "Fold 2 accuracy: 80.36\n",
      "Fold 3 accuracy: 80.36\n",
      "Fold 4 accuracy: 80.36\n",
      "Fold 5 accuracy: 80.36\n",
      "Fold 6 accuracy: 80.36\n",
      "Fold 7 accuracy: 80.36\n",
      "Fold 8 accuracy: 80.36\n",
      "Fold 9 accuracy: 80.36\n",
      "Fold 10 accuracy: 80.36\n",
      "Mean Accuracy: 80.36\n",
      "\n",
      "\n",
      "KNeighborsClassifier\n",
      "\n",
      "\n",
      "Fold 1 accuracy: 78.11\n",
      "Fold 2 accuracy: 78.11\n",
      "Fold 3 accuracy: 78.11\n",
      "Fold 4 accuracy: 78.11\n",
      "Fold 5 accuracy: 78.11\n",
      "Fold 6 accuracy: 78.11\n",
      "Fold 7 accuracy: 78.11\n",
      "Fold 8 accuracy: 78.11\n",
      "Fold 9 accuracy: 78.11\n",
      "Fold 10 accuracy: 78.11\n",
      "Mean Accuracy: 78.11\n",
      "\n",
      "\n",
      "LinearSVC\n",
      "\n",
      "\n",
      "Fold 1 accuracy: 78.68\n",
      "Fold 2 accuracy: 78.68\n",
      "Fold 3 accuracy: 78.68\n",
      "Fold 4 accuracy: 78.68\n",
      "Fold 5 accuracy: 78.68\n",
      "Fold 6 accuracy: 78.68\n",
      "Fold 7 accuracy: 78.68\n",
      "Fold 8 accuracy: 78.68\n",
      "Fold 9 accuracy: 78.68\n",
      "Fold 10 accuracy: 78.68\n",
      "Mean Accuracy: 78.68000000000002\n",
      "\n",
      "\n",
      "GaussianNB\n",
      "\n",
      "\n",
      "Fold 1 accuracy: 75.53\n",
      "Fold 2 accuracy: 75.53\n",
      "Fold 3 accuracy: 75.53\n",
      "Fold 4 accuracy: 75.53\n",
      "Fold 5 accuracy: 75.53\n",
      "Fold 6 accuracy: 75.53\n",
      "Fold 7 accuracy: 75.53\n",
      "Fold 8 accuracy: 75.53\n",
      "Fold 9 accuracy: 75.53\n",
      "Fold 10 accuracy: 75.53\n",
      "Mean Accuracy: 75.53\n",
      "\n",
      "\n",
      "SGDClassifier\n",
      "\n",
      "\n",
      "Fold 1 accuracy: 64.09\n",
      "Fold 2 accuracy: 77.44\n",
      "Fold 3 accuracy: 67.34\n",
      "Fold 4 accuracy: 73.85\n",
      "Fold 5 accuracy: 70.26\n",
      "Fold 6 accuracy: 61.39\n",
      "Fold 7 accuracy: 69.81\n",
      "Fold 8 accuracy: 65.43\n",
      "Fold 9 accuracy: 71.94\n",
      "Fold 10 accuracy: 79.12\n",
      "Mean Accuracy: 70.067\n"
     ]
    }
   ],
   "source": [
    "run_kfold(LogisticRegression);\n",
    "run_kfold(RandomForestClassifier);\n",
    "run_kfold(DecisionTreeClassifier);\n",
    "run_kfold(Perceptron);\n",
    "run_kfold(xgboost_prediction);\n",
    "run_kfold(svc);\n",
    "run_kfold(KNeighborsClassifier);\n",
    "run_kfold(linear_svc);\n",
    "run_kfold(GaussianNB);\n",
    "run_kfold(SGDClassifier);\n"
   ]
  },
  {
   "cell_type": "code",
   "execution_count": 124,
   "metadata": {
    "collapsed": true
   },
   "outputs": [],
   "source": [
    "#DecisionTreeClassifier and RandomForestClassifier have highest accuracy i.e 81.93000000000002. I will use RandomForestClassifier to make my submission.\n",
    "Y_pred = RandomForestClassifier.predict(X_test)\n",
    "Y_pred\n",
    "submission = pd.DataFrame({\n",
    "        \"PassengerId\": test_df[\"PassengerId\"],\n",
    "        \"Survived\": Y_pred\n",
    "    })\n",
    "submission.to_csv('submission.csv', index=False)"
   ]
  },
  {
   "cell_type": "code",
   "execution_count": 60,
   "metadata": {
    "collapsed": true
   },
   "outputs": [],
   "source": [
    "#deep learning \n",
    "X_train, X_test, Y_train, Y_test = train_test_split(X_train, Y_train, test_size = 0.2, random_state = 0)"
   ]
  },
  {
   "cell_type": "code",
   "execution_count": 61,
   "metadata": {},
   "outputs": [
    {
     "name": "stdout",
     "output_type": "stream",
     "text": [
      "Train on 712 samples, validate on 179 samples\n",
      "Epoch 1/100\n",
      "712/712 [==============================] - 1s 999us/step - loss: 0.6954 - acc: 0.5576 - val_loss: 0.6891 - val_acc: 0.6145\n",
      "Epoch 2/100\n",
      "712/712 [==============================] - 0s 224us/step - loss: 0.6856 - acc: 0.6166 - val_loss: 0.6801 - val_acc: 0.6145\n",
      "Epoch 3/100\n",
      "712/712 [==============================] - 0s 219us/step - loss: 0.6755 - acc: 0.6166 - val_loss: 0.6693 - val_acc: 0.6145\n",
      "Epoch 4/100\n",
      "712/712 [==============================] - 0s 232us/step - loss: 0.6639 - acc: 0.6166 - val_loss: 0.6578 - val_acc: 0.6145\n",
      "Epoch 5/100\n",
      "712/712 [==============================] - 0s 236us/step - loss: 0.6514 - acc: 0.6166 - val_loss: 0.6446 - val_acc: 0.6145\n",
      "Epoch 6/100\n",
      "712/712 [==============================] - 0s 234us/step - loss: 0.6371 - acc: 0.6166 - val_loss: 0.6288 - val_acc: 0.6145\n",
      "Epoch 7/100\n",
      "712/712 [==============================] - 0s 203us/step - loss: 0.6177 - acc: 0.6348 - val_loss: 0.6047 - val_acc: 0.7430\n",
      "Epoch 8/100\n",
      "712/712 [==============================] - 0s 231us/step - loss: 0.5901 - acc: 0.7654 - val_loss: 0.5754 - val_acc: 0.7877\n",
      "Epoch 9/100\n",
      "712/712 [==============================] - 0s 253us/step - loss: 0.5586 - acc: 0.7865 - val_loss: 0.5468 - val_acc: 0.7877\n",
      "Epoch 10/100\n",
      "712/712 [==============================] - 0s 209us/step - loss: 0.5342 - acc: 0.7865 - val_loss: 0.5276 - val_acc: 0.7877\n",
      "Epoch 11/100\n",
      "712/712 [==============================] - 0s 241us/step - loss: 0.5191 - acc: 0.7865 - val_loss: 0.5152 - val_acc: 0.7877\n",
      "Epoch 12/100\n",
      "712/712 [==============================] - 0s 245us/step - loss: 0.5096 - acc: 0.7865 - val_loss: 0.5013 - val_acc: 0.7877\n",
      "Epoch 13/100\n",
      "712/712 [==============================] - 0s 210us/step - loss: 0.4995 - acc: 0.7865 - val_loss: 0.4906 - val_acc: 0.7877\n",
      "Epoch 14/100\n",
      "712/712 [==============================] - 0s 213us/step - loss: 0.4923 - acc: 0.7865 - val_loss: 0.4814 - val_acc: 0.7877\n",
      "Epoch 15/100\n",
      "712/712 [==============================] - 0s 206us/step - loss: 0.4873 - acc: 0.7865 - val_loss: 0.4710 - val_acc: 0.7877\n",
      "Epoch 16/100\n",
      "712/712 [==============================] - 0s 211us/step - loss: 0.4830 - acc: 0.7907 - val_loss: 0.4653 - val_acc: 0.7821\n",
      "Epoch 17/100\n",
      "712/712 [==============================] - 0s 225us/step - loss: 0.4773 - acc: 0.8006 - val_loss: 0.4626 - val_acc: 0.7933\n",
      "Epoch 18/100\n",
      "712/712 [==============================] - 0s 215us/step - loss: 0.4747 - acc: 0.8062 - val_loss: 0.4586 - val_acc: 0.7933\n",
      "Epoch 19/100\n",
      "712/712 [==============================] - 0s 226us/step - loss: 0.4725 - acc: 0.8062 - val_loss: 0.4582 - val_acc: 0.7933\n",
      "Epoch 20/100\n",
      "712/712 [==============================] - 0s 271us/step - loss: 0.4711 - acc: 0.8062 - val_loss: 0.4567 - val_acc: 0.7933\n",
      "Epoch 21/100\n",
      "712/712 [==============================] - 0s 220us/step - loss: 0.4702 - acc: 0.8062 - val_loss: 0.4555 - val_acc: 0.7933\n",
      "Epoch 22/100\n",
      "712/712 [==============================] - 0s 206us/step - loss: 0.4696 - acc: 0.8062 - val_loss: 0.4537 - val_acc: 0.7933\n",
      "Epoch 23/100\n",
      "712/712 [==============================] - 0s 211us/step - loss: 0.4698 - acc: 0.8062 - val_loss: 0.4519 - val_acc: 0.7933\n",
      "Epoch 24/100\n",
      "712/712 [==============================] - 0s 214us/step - loss: 0.4687 - acc: 0.8062 - val_loss: 0.4513 - val_acc: 0.7933\n",
      "Epoch 25/100\n",
      "712/712 [==============================] - 0s 220us/step - loss: 0.4687 - acc: 0.8062 - val_loss: 0.4491 - val_acc: 0.7933\n",
      "Epoch 26/100\n",
      "712/712 [==============================] - 0s 218us/step - loss: 0.4675 - acc: 0.8062 - val_loss: 0.4486 - val_acc: 0.7933\n",
      "Epoch 27/100\n",
      "712/712 [==============================] - 0s 226us/step - loss: 0.4674 - acc: 0.8062 - val_loss: 0.4477 - val_acc: 0.7933\n",
      "Epoch 28/100\n",
      "712/712 [==============================] - 0s 202us/step - loss: 0.4669 - acc: 0.8062 - val_loss: 0.4473 - val_acc: 0.7933\n",
      "Epoch 29/100\n",
      "712/712 [==============================] - 0s 205us/step - loss: 0.4662 - acc: 0.8062 - val_loss: 0.4469 - val_acc: 0.7933\n",
      "Epoch 30/100\n",
      "712/712 [==============================] - 0s 204us/step - loss: 0.4658 - acc: 0.8062 - val_loss: 0.4463 - val_acc: 0.7933\n",
      "Epoch 31/100\n",
      "712/712 [==============================] - 0s 205us/step - loss: 0.4656 - acc: 0.8062 - val_loss: 0.4460 - val_acc: 0.7933\n",
      "Epoch 32/100\n",
      "712/712 [==============================] - 0s 222us/step - loss: 0.4654 - acc: 0.8062 - val_loss: 0.4450 - val_acc: 0.7933\n",
      "Epoch 33/100\n",
      "712/712 [==============================] - 0s 231us/step - loss: 0.4647 - acc: 0.8062 - val_loss: 0.4441 - val_acc: 0.7933\n",
      "Epoch 34/100\n",
      "712/712 [==============================] - 0s 220us/step - loss: 0.4650 - acc: 0.8062 - val_loss: 0.4432 - val_acc: 0.7933\n",
      "Epoch 35/100\n",
      "712/712 [==============================] - 0s 223us/step - loss: 0.4643 - acc: 0.8062 - val_loss: 0.4426 - val_acc: 0.7933\n",
      "Epoch 36/100\n",
      "712/712 [==============================] - 0s 220us/step - loss: 0.4642 - acc: 0.8062 - val_loss: 0.4418 - val_acc: 0.7933\n",
      "Epoch 37/100\n",
      "712/712 [==============================] - 0s 236us/step - loss: 0.4640 - acc: 0.8062 - val_loss: 0.4413 - val_acc: 0.7933\n",
      "Epoch 38/100\n",
      "712/712 [==============================] - 0s 211us/step - loss: 0.4634 - acc: 0.8062 - val_loss: 0.4406 - val_acc: 0.7933\n",
      "Epoch 39/100\n",
      "712/712 [==============================] - 0s 215us/step - loss: 0.4638 - acc: 0.8062 - val_loss: 0.4399 - val_acc: 0.7933\n",
      "Epoch 40/100\n",
      "712/712 [==============================] - 0s 211us/step - loss: 0.4630 - acc: 0.8062 - val_loss: 0.4385 - val_acc: 0.7933\n",
      "Epoch 41/100\n",
      "712/712 [==============================] - 0s 219us/step - loss: 0.4624 - acc: 0.8062 - val_loss: 0.4384 - val_acc: 0.7933\n",
      "Epoch 42/100\n",
      "712/712 [==============================] - 0s 206us/step - loss: 0.4624 - acc: 0.8062 - val_loss: 0.4374 - val_acc: 0.7933\n",
      "Epoch 43/100\n",
      "712/712 [==============================] - 0s 228us/step - loss: 0.4613 - acc: 0.8062 - val_loss: 0.4362 - val_acc: 0.7933\n",
      "Epoch 44/100\n",
      "712/712 [==============================] - 0s 266us/step - loss: 0.4610 - acc: 0.8062 - val_loss: 0.4356 - val_acc: 0.7933\n",
      "Epoch 45/100\n",
      "712/712 [==============================] - 0s 209us/step - loss: 0.4609 - acc: 0.8062 - val_loss: 0.4339 - val_acc: 0.7933\n",
      "Epoch 46/100\n",
      "712/712 [==============================] - 0s 202us/step - loss: 0.4602 - acc: 0.8062 - val_loss: 0.4332 - val_acc: 0.7933\n",
      "Epoch 47/100\n",
      "712/712 [==============================] - 0s 215us/step - loss: 0.4598 - acc: 0.8062 - val_loss: 0.4323 - val_acc: 0.7933\n",
      "Epoch 48/100\n",
      "712/712 [==============================] - 0s 214us/step - loss: 0.4600 - acc: 0.8062 - val_loss: 0.4319 - val_acc: 0.7933\n",
      "Epoch 49/100\n",
      "712/712 [==============================] - 0s 222us/step - loss: 0.4590 - acc: 0.8062 - val_loss: 0.4309 - val_acc: 0.7933\n",
      "Epoch 50/100\n",
      "712/712 [==============================] - 0s 229us/step - loss: 0.4588 - acc: 0.8062 - val_loss: 0.4311 - val_acc: 0.7933\n",
      "Epoch 51/100\n",
      "712/712 [==============================] - 0s 238us/step - loss: 0.4584 - acc: 0.8062 - val_loss: 0.4302 - val_acc: 0.7933\n",
      "Epoch 52/100\n",
      "712/712 [==============================] - 0s 223us/step - loss: 0.4580 - acc: 0.8062 - val_loss: 0.4290 - val_acc: 0.7933\n",
      "Epoch 53/100\n",
      "712/712 [==============================] - 0s 193us/step - loss: 0.4578 - acc: 0.8062 - val_loss: 0.4284 - val_acc: 0.7933\n",
      "Epoch 54/100\n",
      "712/712 [==============================] - 0s 203us/step - loss: 0.4574 - acc: 0.8062 - val_loss: 0.4273 - val_acc: 0.7933\n",
      "Epoch 55/100\n",
      "712/712 [==============================] - 0s 208us/step - loss: 0.4574 - acc: 0.8062 - val_loss: 0.4269 - val_acc: 0.7933\n",
      "Epoch 56/100\n",
      "712/712 [==============================] - 0s 216us/step - loss: 0.4568 - acc: 0.8062 - val_loss: 0.4263 - val_acc: 0.7933\n",
      "Epoch 57/100\n",
      "712/712 [==============================] - 0s 231us/step - loss: 0.4566 - acc: 0.8062 - val_loss: 0.4259 - val_acc: 0.7933\n",
      "Epoch 58/100\n",
      "712/712 [==============================] - 0s 224us/step - loss: 0.4563 - acc: 0.8062 - val_loss: 0.4246 - val_acc: 0.7933\n",
      "Epoch 59/100\n",
      "712/712 [==============================] - 0s 226us/step - loss: 0.4563 - acc: 0.8062 - val_loss: 0.4242 - val_acc: 0.7933\n",
      "Epoch 60/100\n",
      "712/712 [==============================] - 0s 220us/step - loss: 0.4557 - acc: 0.8062 - val_loss: 0.4230 - val_acc: 0.7933\n"
     ]
    },
    {
     "name": "stdout",
     "output_type": "stream",
     "text": [
      "Epoch 61/100\n",
      "712/712 [==============================] - 0s 238us/step - loss: 0.4555 - acc: 0.8062 - val_loss: 0.4232 - val_acc: 0.7933\n",
      "Epoch 62/100\n",
      "712/712 [==============================] - 0s 234us/step - loss: 0.4548 - acc: 0.8062 - val_loss: 0.4224 - val_acc: 0.7933\n",
      "Epoch 63/100\n",
      "712/712 [==============================] - 0s 240us/step - loss: 0.4549 - acc: 0.8062 - val_loss: 0.4218 - val_acc: 0.7933\n",
      "Epoch 64/100\n",
      "712/712 [==============================] - 0s 211us/step - loss: 0.4544 - acc: 0.8062 - val_loss: 0.4217 - val_acc: 0.7933\n",
      "Epoch 65/100\n",
      "712/712 [==============================] - 0s 203us/step - loss: 0.4551 - acc: 0.8062 - val_loss: 0.4205 - val_acc: 0.7933\n",
      "Epoch 66/100\n",
      "712/712 [==============================] - 0s 230us/step - loss: 0.4538 - acc: 0.8062 - val_loss: 0.4198 - val_acc: 0.7933\n",
      "Epoch 67/100\n",
      "712/712 [==============================] - 0s 240us/step - loss: 0.4537 - acc: 0.8062 - val_loss: 0.4187 - val_acc: 0.7933\n",
      "Epoch 68/100\n",
      "712/712 [==============================] - 0s 221us/step - loss: 0.4537 - acc: 0.8062 - val_loss: 0.4189 - val_acc: 0.7933\n",
      "Epoch 69/100\n",
      "712/712 [==============================] - 0s 213us/step - loss: 0.4530 - acc: 0.8062 - val_loss: 0.4181 - val_acc: 0.7933\n",
      "Epoch 70/100\n",
      "712/712 [==============================] - 0s 216us/step - loss: 0.4532 - acc: 0.8062 - val_loss: 0.4173 - val_acc: 0.7933\n",
      "Epoch 71/100\n",
      "712/712 [==============================] - 0s 214us/step - loss: 0.4527 - acc: 0.8062 - val_loss: 0.4168 - val_acc: 0.7933\n",
      "Epoch 72/100\n",
      "712/712 [==============================] - 0s 244us/step - loss: 0.4525 - acc: 0.8062 - val_loss: 0.4164 - val_acc: 0.7933\n",
      "Epoch 73/100\n",
      "712/712 [==============================] - 0s 252us/step - loss: 0.4520 - acc: 0.8062 - val_loss: 0.4159 - val_acc: 0.7933\n",
      "Epoch 74/100\n",
      "712/712 [==============================] - 0s 262us/step - loss: 0.4520 - acc: 0.8062 - val_loss: 0.4156 - val_acc: 0.7933\n",
      "Epoch 75/100\n",
      "712/712 [==============================] - 0s 232us/step - loss: 0.4519 - acc: 0.8062 - val_loss: 0.4150 - val_acc: 0.7933\n",
      "Epoch 76/100\n",
      "712/712 [==============================] - 0s 235us/step - loss: 0.4518 - acc: 0.8062 - val_loss: 0.4147 - val_acc: 0.7933\n",
      "Epoch 77/100\n",
      "712/712 [==============================] - 0s 215us/step - loss: 0.4521 - acc: 0.8062 - val_loss: 0.4141 - val_acc: 0.7933\n",
      "Epoch 78/100\n",
      "712/712 [==============================] - 0s 228us/step - loss: 0.4514 - acc: 0.8062 - val_loss: 0.4129 - val_acc: 0.7933\n",
      "Epoch 79/100\n",
      "712/712 [==============================] - 0s 228us/step - loss: 0.4513 - acc: 0.8062 - val_loss: 0.4116 - val_acc: 0.7933\n",
      "Epoch 80/100\n",
      "712/712 [==============================] - 0s 250us/step - loss: 0.4507 - acc: 0.8062 - val_loss: 0.4113 - val_acc: 0.7933\n",
      "Epoch 81/100\n",
      "712/712 [==============================] - 0s 237us/step - loss: 0.4505 - acc: 0.8062 - val_loss: 0.4109 - val_acc: 0.7933\n",
      "Epoch 82/100\n",
      "712/712 [==============================] - 0s 230us/step - loss: 0.4503 - acc: 0.8062 - val_loss: 0.4098 - val_acc: 0.7933\n",
      "Epoch 83/100\n",
      "712/712 [==============================] - 0s 222us/step - loss: 0.4501 - acc: 0.8062 - val_loss: 0.4087 - val_acc: 0.7933\n",
      "Epoch 84/100\n",
      "712/712 [==============================] - 0s 244us/step - loss: 0.4500 - acc: 0.8062 - val_loss: 0.4093 - val_acc: 0.7933\n",
      "Epoch 85/100\n",
      "712/712 [==============================] - 0s 226us/step - loss: 0.4502 - acc: 0.8062 - val_loss: 0.4093 - val_acc: 0.7933\n",
      "Epoch 86/100\n",
      "712/712 [==============================] - 0s 219us/step - loss: 0.4504 - acc: 0.8062 - val_loss: 0.4078 - val_acc: 0.7877\n",
      "Epoch 87/100\n",
      "712/712 [==============================] - 0s 227us/step - loss: 0.4497 - acc: 0.8062 - val_loss: 0.4077 - val_acc: 0.7877\n",
      "Epoch 88/100\n",
      "712/712 [==============================] - 0s 236us/step - loss: 0.4498 - acc: 0.8062 - val_loss: 0.4086 - val_acc: 0.7933\n",
      "Epoch 89/100\n",
      "712/712 [==============================] - 0s 228us/step - loss: 0.4499 - acc: 0.8062 - val_loss: 0.4089 - val_acc: 0.7877\n",
      "Epoch 90/100\n",
      "712/712 [==============================] - 0s 231us/step - loss: 0.4496 - acc: 0.8062 - val_loss: 0.4089 - val_acc: 0.7877\n",
      "Epoch 91/100\n",
      "712/712 [==============================] - 0s 211us/step - loss: 0.4494 - acc: 0.8062 - val_loss: 0.4078 - val_acc: 0.7877\n",
      "Epoch 92/100\n",
      "712/712 [==============================] - 0s 217us/step - loss: 0.4501 - acc: 0.8062 - val_loss: 0.4087 - val_acc: 0.7877\n",
      "Epoch 93/100\n",
      "712/712 [==============================] - 0s 226us/step - loss: 0.4502 - acc: 0.8076 - val_loss: 0.4076 - val_acc: 0.7877\n",
      "Epoch 94/100\n",
      "712/712 [==============================] - 0s 235us/step - loss: 0.4492 - acc: 0.8062 - val_loss: 0.4083 - val_acc: 0.7877\n",
      "Epoch 95/100\n",
      "712/712 [==============================] - 0s 243us/step - loss: 0.4492 - acc: 0.8062 - val_loss: 0.4083 - val_acc: 0.7877\n",
      "Epoch 96/100\n",
      "712/712 [==============================] - 0s 237us/step - loss: 0.4495 - acc: 0.8062 - val_loss: 0.4087 - val_acc: 0.7877\n",
      "Epoch 97/100\n",
      "712/712 [==============================] - 0s 205us/step - loss: 0.4500 - acc: 0.8090 - val_loss: 0.4095 - val_acc: 0.7877\n",
      "Epoch 98/100\n",
      "712/712 [==============================] - 0s 208us/step - loss: 0.4496 - acc: 0.8062 - val_loss: 0.4084 - val_acc: 0.7877\n",
      "Epoch 99/100\n",
      "712/712 [==============================] - 0s 242us/step - loss: 0.4493 - acc: 0.8062 - val_loss: 0.4081 - val_acc: 0.7877\n",
      "Epoch 100/100\n",
      "712/712 [==============================] - 0s 225us/step - loss: 0.4491 - acc: 0.8090 - val_loss: 0.4079 - val_acc: 0.7877\n"
     ]
    },
    {
     "data": {
      "text/plain": [
       "<keras.callbacks.History at 0x126f89da0>"
      ]
     },
     "execution_count": 61,
     "metadata": {},
     "output_type": "execute_result"
    }
   ],
   "source": [
    "\n",
    "classifier = Sequential()\n",
    "# Using relu for hidden layers and sigmoid for output layer \n",
    "# Adding the input and first hidden layer\n",
    "#units = (4 +1) /2\n",
    "classifier.add(Dense(units = 3 , use_bias=True, kernel_initializer='glorot_uniform', bias_initializer='zeros', activation='relu' , input_dim =4))\n",
    "\n",
    "# Adding 2 hidden layers\n",
    "classifier.add(Dense(units = 3 , use_bias=True, kernel_initializer='glorot_uniform', bias_initializer='zeros', activation='relu'))\n",
    "classifier.add(Dense(units = 3 , use_bias=True, kernel_initializer='glorot_uniform', bias_initializer='zeros', activation='relu'))\n",
    "#classifier.add(LSTM(100))\n",
    "# Adding the output layer\n",
    "classifier.add(Dense(units = 1 , use_bias=True, kernel_initializer='glorot_uniform', bias_initializer='zeros', activation='sigmoid'))\n",
    "\n",
    "\n",
    "classifier.compile(loss='binary_crossentropy', optimizer='adam', metrics=['accuracy'])\n",
    "classifier.fit(X_train, Y_train, validation_data=(X_test, Y_test), epochs=100, batch_size=10)\n",
    "#classifier.fit(X_train, Y_train, batch_size = 10, epochs = 1)"
   ]
  },
  {
   "cell_type": "code",
   "execution_count": 64,
   "metadata": {
    "collapsed": true
   },
   "outputs": [],
   "source": [
    "Y_pred = classifier.predict(X_test) \n",
    "# We need to change y_pred from probabilities to boolean values in order for the confusion matrix to work\n",
    "Y_pred = (Y_pred > 0.5) #Will return True if y_pred>0.5(threshold is 50%) and false if less\n"
   ]
  },
  {
   "cell_type": "code",
   "execution_count": 65,
   "metadata": {},
   "outputs": [
    {
     "name": "stdout",
     "output_type": "stream",
     "text": [
      "[[97 13]\n",
      " [25 44]]\n"
     ]
    }
   ],
   "source": [
    "# Making the Confusion Matrix\n",
    "from sklearn.metrics import confusion_matrix\n",
    "cm = confusion_matrix(Y_test, Y_pred)\n",
    "\n",
    "print (cm)"
   ]
  },
  {
   "cell_type": "code",
   "execution_count": null,
   "metadata": {
    "collapsed": true
   },
   "outputs": [],
   "source": []
  }
 ],
 "metadata": {
  "kernelspec": {
   "display_name": "Python 3",
   "language": "python",
   "name": "python3"
  },
  "language_info": {
   "codemirror_mode": {
    "name": "ipython",
    "version": 3
   },
   "file_extension": ".py",
   "mimetype": "text/x-python",
   "name": "python",
   "nbconvert_exporter": "python",
   "pygments_lexer": "ipython3",
   "version": "3.6.1"
  }
 },
 "nbformat": 4,
 "nbformat_minor": 2
}
